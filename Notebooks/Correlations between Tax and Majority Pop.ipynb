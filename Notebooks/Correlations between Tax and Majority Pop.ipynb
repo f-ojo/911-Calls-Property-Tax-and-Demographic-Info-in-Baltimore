{
 "cells": [
  {
   "cell_type": "code",
   "execution_count": 1,
   "metadata": {},
   "outputs": [],
   "source": [
    "import pandas as pd\n",
    "import numpy as np\n",
    "import matplotlib.pyplot as plt"
   ]
  },
  {
   "cell_type": "markdown",
   "metadata": {},
   "source": [
    "# This is the combined dataset of Neighborhoods, Census and Average tax per neighborhood"
   ]
  },
  {
   "cell_type": "code",
   "execution_count": 2,
   "metadata": {},
   "outputs": [],
   "source": [
    "df = pd.read_csv('Neighborhood_TaxAVG_Census.csv')"
   ]
  },
  {
   "cell_type": "code",
   "execution_count": 3,
   "metadata": {},
   "outputs": [
    {
     "data": {
      "text/html": [
       "<div>\n",
       "<style scoped>\n",
       "    .dataframe tbody tr th:only-of-type {\n",
       "        vertical-align: middle;\n",
       "    }\n",
       "\n",
       "    .dataframe tbody tr th {\n",
       "        vertical-align: top;\n",
       "    }\n",
       "\n",
       "    .dataframe thead th {\n",
       "        text-align: right;\n",
       "    }\n",
       "</style>\n",
       "<table border=\"1\" class=\"dataframe\">\n",
       "  <thead>\n",
       "    <tr style=\"text-align: right;\">\n",
       "      <th></th>\n",
       "      <th>Neighborhood</th>\n",
       "      <th>CityTaxAverage</th>\n",
       "      <th>paa10</th>\n",
       "      <th>pwhite10</th>\n",
       "      <th>pasi10</th>\n",
       "      <th>p2more10</th>\n",
       "      <th>ppac10</th>\n",
       "      <th>phisp10</th>\n",
       "    </tr>\n",
       "  </thead>\n",
       "  <tbody>\n",
       "    <tr>\n",
       "      <th>0</th>\n",
       "      <td>Brooklyn/Curtis Bay/Hawkins Point</td>\n",
       "      <td>1746.23</td>\n",
       "      <td>35.9</td>\n",
       "      <td>47.8</td>\n",
       "      <td>1.7</td>\n",
       "      <td>4.1</td>\n",
       "      <td>0.7</td>\n",
       "      <td>9.8</td>\n",
       "    </tr>\n",
       "    <tr>\n",
       "      <th>1</th>\n",
       "      <td>Belair-Edison</td>\n",
       "      <td>2145.84</td>\n",
       "      <td>86.9</td>\n",
       "      <td>9.9</td>\n",
       "      <td>0.5</td>\n",
       "      <td>1.1</td>\n",
       "      <td>0.3</td>\n",
       "      <td>1.2</td>\n",
       "    </tr>\n",
       "    <tr>\n",
       "      <th>2</th>\n",
       "      <td>Forest Park/Walbrook</td>\n",
       "      <td>2238.82</td>\n",
       "      <td>94.9</td>\n",
       "      <td>2.2</td>\n",
       "      <td>0.1</td>\n",
       "      <td>1.1</td>\n",
       "      <td>0.4</td>\n",
       "      <td>1.3</td>\n",
       "    </tr>\n",
       "    <tr>\n",
       "      <th>3</th>\n",
       "      <td>Canton</td>\n",
       "      <td>6531.88</td>\n",
       "      <td>4.0</td>\n",
       "      <td>86.0</td>\n",
       "      <td>3.4</td>\n",
       "      <td>1.3</td>\n",
       "      <td>0.4</td>\n",
       "      <td>5.0</td>\n",
       "    </tr>\n",
       "    <tr>\n",
       "      <th>4</th>\n",
       "      <td>Poppleton/The Terraces/Hollins Market</td>\n",
       "      <td>2629.75</td>\n",
       "      <td>82.9</td>\n",
       "      <td>12.7</td>\n",
       "      <td>1.0</td>\n",
       "      <td>1.4</td>\n",
       "      <td>0.4</td>\n",
       "      <td>1.7</td>\n",
       "    </tr>\n",
       "    <tr>\n",
       "      <th>5</th>\n",
       "      <td>Sandtown-Winchester/Harlem Park</td>\n",
       "      <td>591.66</td>\n",
       "      <td>96.6</td>\n",
       "      <td>1.1</td>\n",
       "      <td>0.3</td>\n",
       "      <td>1.0</td>\n",
       "      <td>0.2</td>\n",
       "      <td>0.7</td>\n",
       "    </tr>\n",
       "    <tr>\n",
       "      <th>6</th>\n",
       "      <td>Upton/Druid Heights</td>\n",
       "      <td>1087.47</td>\n",
       "      <td>92.4</td>\n",
       "      <td>3.9</td>\n",
       "      <td>0.6</td>\n",
       "      <td>1.4</td>\n",
       "      <td>0.4</td>\n",
       "      <td>1.4</td>\n",
       "    </tr>\n",
       "    <tr>\n",
       "      <th>7</th>\n",
       "      <td>Washington Village/Pigtown</td>\n",
       "      <td>2890.30</td>\n",
       "      <td>49.0</td>\n",
       "      <td>39.1</td>\n",
       "      <td>5.3</td>\n",
       "      <td>2.5</td>\n",
       "      <td>0.7</td>\n",
       "      <td>3.4</td>\n",
       "    </tr>\n",
       "    <tr>\n",
       "      <th>8</th>\n",
       "      <td>Edmondson Village</td>\n",
       "      <td>2220.85</td>\n",
       "      <td>96.7</td>\n",
       "      <td>0.8</td>\n",
       "      <td>0.1</td>\n",
       "      <td>1.2</td>\n",
       "      <td>0.4</td>\n",
       "      <td>0.9</td>\n",
       "    </tr>\n",
       "    <tr>\n",
       "      <th>9</th>\n",
       "      <td>Allendale/Irvington/S. Hilton</td>\n",
       "      <td>1997.83</td>\n",
       "      <td>88.2</td>\n",
       "      <td>8.3</td>\n",
       "      <td>0.5</td>\n",
       "      <td>1.3</td>\n",
       "      <td>0.5</td>\n",
       "      <td>1.3</td>\n",
       "    </tr>\n",
       "    <tr>\n",
       "      <th>10</th>\n",
       "      <td>Cedonia/Frankford</td>\n",
       "      <td>3574.86</td>\n",
       "      <td>78.5</td>\n",
       "      <td>15.1</td>\n",
       "      <td>2.3</td>\n",
       "      <td>1.8</td>\n",
       "      <td>0.4</td>\n",
       "      <td>2.0</td>\n",
       "    </tr>\n",
       "    <tr>\n",
       "      <th>11</th>\n",
       "      <td>Morrell Park/Violetville</td>\n",
       "      <td>2872.08</td>\n",
       "      <td>17.6</td>\n",
       "      <td>72.5</td>\n",
       "      <td>2.4</td>\n",
       "      <td>2.4</td>\n",
       "      <td>0.8</td>\n",
       "      <td>4.3</td>\n",
       "    </tr>\n",
       "    <tr>\n",
       "      <th>12</th>\n",
       "      <td>Mount Washington/Coldspring</td>\n",
       "      <td>6532.62</td>\n",
       "      <td>22.6</td>\n",
       "      <td>68.0</td>\n",
       "      <td>3.9</td>\n",
       "      <td>2.4</td>\n",
       "      <td>0.5</td>\n",
       "      <td>2.5</td>\n",
       "    </tr>\n",
       "    <tr>\n",
       "      <th>13</th>\n",
       "      <td>Westport/Mount Winans/Lakeland</td>\n",
       "      <td>1983.87</td>\n",
       "      <td>65.5</td>\n",
       "      <td>17.2</td>\n",
       "      <td>2.0</td>\n",
       "      <td>1.8</td>\n",
       "      <td>0.4</td>\n",
       "      <td>13.1</td>\n",
       "    </tr>\n",
       "    <tr>\n",
       "      <th>14</th>\n",
       "      <td>Downtown/Seton Hill</td>\n",
       "      <td>33655.78</td>\n",
       "      <td>37.0</td>\n",
       "      <td>39.2</td>\n",
       "      <td>15.9</td>\n",
       "      <td>2.8</td>\n",
       "      <td>0.6</td>\n",
       "      <td>4.5</td>\n",
       "    </tr>\n",
       "    <tr>\n",
       "      <th>15</th>\n",
       "      <td>Loch Raven</td>\n",
       "      <td>3796.99</td>\n",
       "      <td>87.6</td>\n",
       "      <td>7.6</td>\n",
       "      <td>1.3</td>\n",
       "      <td>1.5</td>\n",
       "      <td>0.2</td>\n",
       "      <td>1.8</td>\n",
       "    </tr>\n",
       "    <tr>\n",
       "      <th>16</th>\n",
       "      <td>Beechfield/Ten Hills/West Hills</td>\n",
       "      <td>3292.01</td>\n",
       "      <td>78.9</td>\n",
       "      <td>16.8</td>\n",
       "      <td>0.8</td>\n",
       "      <td>1.5</td>\n",
       "      <td>0.4</td>\n",
       "      <td>1.6</td>\n",
       "    </tr>\n",
       "    <tr>\n",
       "      <th>17</th>\n",
       "      <td>Oldtown/Middle East</td>\n",
       "      <td>6361.54</td>\n",
       "      <td>89.5</td>\n",
       "      <td>5.4</td>\n",
       "      <td>2.0</td>\n",
       "      <td>1.0</td>\n",
       "      <td>0.3</td>\n",
       "      <td>1.7</td>\n",
       "    </tr>\n",
       "    <tr>\n",
       "      <th>18</th>\n",
       "      <td>Chinquapin Park/Belvedere</td>\n",
       "      <td>3385.50</td>\n",
       "      <td>69.0</td>\n",
       "      <td>23.2</td>\n",
       "      <td>1.7</td>\n",
       "      <td>1.8</td>\n",
       "      <td>0.6</td>\n",
       "      <td>3.7</td>\n",
       "    </tr>\n",
       "    <tr>\n",
       "      <th>19</th>\n",
       "      <td>Orangeville/East Highlandtown</td>\n",
       "      <td>4512.61</td>\n",
       "      <td>12.2</td>\n",
       "      <td>51.6</td>\n",
       "      <td>3.0</td>\n",
       "      <td>1.9</td>\n",
       "      <td>0.9</td>\n",
       "      <td>30.3</td>\n",
       "    </tr>\n",
       "    <tr>\n",
       "      <th>20</th>\n",
       "      <td>Medfield/Hampden/Woodberry/Remington</td>\n",
       "      <td>4431.31</td>\n",
       "      <td>11.6</td>\n",
       "      <td>77.2</td>\n",
       "      <td>5.0</td>\n",
       "      <td>2.2</td>\n",
       "      <td>0.5</td>\n",
       "      <td>3.6</td>\n",
       "    </tr>\n",
       "    <tr>\n",
       "      <th>21</th>\n",
       "      <td>Penn North/Reservoir Hill</td>\n",
       "      <td>3260.27</td>\n",
       "      <td>90.3</td>\n",
       "      <td>5.7</td>\n",
       "      <td>0.3</td>\n",
       "      <td>1.7</td>\n",
       "      <td>0.5</td>\n",
       "      <td>1.5</td>\n",
       "    </tr>\n",
       "    <tr>\n",
       "      <th>22</th>\n",
       "      <td>Fells Point</td>\n",
       "      <td>10456.30</td>\n",
       "      <td>7.8</td>\n",
       "      <td>69.8</td>\n",
       "      <td>4.6</td>\n",
       "      <td>2.0</td>\n",
       "      <td>0.7</td>\n",
       "      <td>15.1</td>\n",
       "    </tr>\n",
       "    <tr>\n",
       "      <th>23</th>\n",
       "      <td>Dorchester/Ashburton</td>\n",
       "      <td>3490.07</td>\n",
       "      <td>96.1</td>\n",
       "      <td>1.3</td>\n",
       "      <td>0.3</td>\n",
       "      <td>0.8</td>\n",
       "      <td>0.4</td>\n",
       "      <td>1.0</td>\n",
       "    </tr>\n",
       "    <tr>\n",
       "      <th>24</th>\n",
       "      <td>Greater Charles Village/Barclay</td>\n",
       "      <td>5482.58</td>\n",
       "      <td>34.7</td>\n",
       "      <td>43.8</td>\n",
       "      <td>13.3</td>\n",
       "      <td>2.8</td>\n",
       "      <td>0.6</td>\n",
       "      <td>4.8</td>\n",
       "    </tr>\n",
       "    <tr>\n",
       "      <th>25</th>\n",
       "      <td>Inner Harbor/Federal Hill</td>\n",
       "      <td>19017.39</td>\n",
       "      <td>11.5</td>\n",
       "      <td>79.5</td>\n",
       "      <td>3.9</td>\n",
       "      <td>1.6</td>\n",
       "      <td>0.4</td>\n",
       "      <td>3.2</td>\n",
       "    </tr>\n",
       "    <tr>\n",
       "      <th>26</th>\n",
       "      <td>Howard Park/West Arlington</td>\n",
       "      <td>2670.36</td>\n",
       "      <td>94.3</td>\n",
       "      <td>2.2</td>\n",
       "      <td>0.3</td>\n",
       "      <td>1.3</td>\n",
       "      <td>0.3</td>\n",
       "      <td>1.6</td>\n",
       "    </tr>\n",
       "    <tr>\n",
       "      <th>27</th>\n",
       "      <td>South Baltimore</td>\n",
       "      <td>6690.65</td>\n",
       "      <td>2.7</td>\n",
       "      <td>90.3</td>\n",
       "      <td>2.7</td>\n",
       "      <td>1.5</td>\n",
       "      <td>0.3</td>\n",
       "      <td>2.6</td>\n",
       "    </tr>\n",
       "    <tr>\n",
       "      <th>28</th>\n",
       "      <td>Harbor East/Little Italy</td>\n",
       "      <td>7265.05</td>\n",
       "      <td>57.9</td>\n",
       "      <td>28.5</td>\n",
       "      <td>4.6</td>\n",
       "      <td>1.6</td>\n",
       "      <td>0.6</td>\n",
       "      <td>6.8</td>\n",
       "    </tr>\n",
       "    <tr>\n",
       "      <th>29</th>\n",
       "      <td>Dickeyville/Franklintown</td>\n",
       "      <td>3478.61</td>\n",
       "      <td>87.8</td>\n",
       "      <td>8.2</td>\n",
       "      <td>0.5</td>\n",
       "      <td>1.0</td>\n",
       "      <td>0.6</td>\n",
       "      <td>1.9</td>\n",
       "    </tr>\n",
       "    <tr>\n",
       "      <th>30</th>\n",
       "      <td>Greater Roland Park/Poplar Hill</td>\n",
       "      <td>11168.40</td>\n",
       "      <td>7.9</td>\n",
       "      <td>77.5</td>\n",
       "      <td>9.8</td>\n",
       "      <td>1.9</td>\n",
       "      <td>0.2</td>\n",
       "      <td>2.6</td>\n",
       "    </tr>\n",
       "    <tr>\n",
       "      <th>31</th>\n",
       "      <td>Cherry Hill</td>\n",
       "      <td>2596.64</td>\n",
       "      <td>95.1</td>\n",
       "      <td>1.6</td>\n",
       "      <td>0.2</td>\n",
       "      <td>1.1</td>\n",
       "      <td>0.3</td>\n",
       "      <td>1.6</td>\n",
       "    </tr>\n",
       "    <tr>\n",
       "      <th>32</th>\n",
       "      <td>Cross-Country/Cheswolde</td>\n",
       "      <td>8614.37</td>\n",
       "      <td>20.4</td>\n",
       "      <td>72.1</td>\n",
       "      <td>3.7</td>\n",
       "      <td>1.2</td>\n",
       "      <td>0.4</td>\n",
       "      <td>2.2</td>\n",
       "    </tr>\n",
       "    <tr>\n",
       "      <th>33</th>\n",
       "      <td>Lauraville</td>\n",
       "      <td>3225.44</td>\n",
       "      <td>58.0</td>\n",
       "      <td>35.8</td>\n",
       "      <td>1.0</td>\n",
       "      <td>2.4</td>\n",
       "      <td>0.6</td>\n",
       "      <td>2.3</td>\n",
       "    </tr>\n",
       "    <tr>\n",
       "      <th>34</th>\n",
       "      <td>North Baltimore/Guilford/Homeland</td>\n",
       "      <td>11051.55</td>\n",
       "      <td>11.8</td>\n",
       "      <td>75.0</td>\n",
       "      <td>7.5</td>\n",
       "      <td>1.9</td>\n",
       "      <td>0.3</td>\n",
       "      <td>3.3</td>\n",
       "    </tr>\n",
       "  </tbody>\n",
       "</table>\n",
       "</div>"
      ],
      "text/plain": [
       "                             Neighborhood  CityTaxAverage  paa10  pwhite10  \\\n",
       "0       Brooklyn/Curtis Bay/Hawkins Point         1746.23   35.9      47.8   \n",
       "1                           Belair-Edison         2145.84   86.9       9.9   \n",
       "2                    Forest Park/Walbrook         2238.82   94.9       2.2   \n",
       "3                                  Canton         6531.88    4.0      86.0   \n",
       "4   Poppleton/The Terraces/Hollins Market         2629.75   82.9      12.7   \n",
       "5         Sandtown-Winchester/Harlem Park          591.66   96.6       1.1   \n",
       "6                     Upton/Druid Heights         1087.47   92.4       3.9   \n",
       "7              Washington Village/Pigtown         2890.30   49.0      39.1   \n",
       "8                       Edmondson Village         2220.85   96.7       0.8   \n",
       "9           Allendale/Irvington/S. Hilton         1997.83   88.2       8.3   \n",
       "10                      Cedonia/Frankford         3574.86   78.5      15.1   \n",
       "11               Morrell Park/Violetville         2872.08   17.6      72.5   \n",
       "12            Mount Washington/Coldspring         6532.62   22.6      68.0   \n",
       "13         Westport/Mount Winans/Lakeland         1983.87   65.5      17.2   \n",
       "14                    Downtown/Seton Hill        33655.78   37.0      39.2   \n",
       "15                             Loch Raven         3796.99   87.6       7.6   \n",
       "16        Beechfield/Ten Hills/West Hills         3292.01   78.9      16.8   \n",
       "17                    Oldtown/Middle East         6361.54   89.5       5.4   \n",
       "18              Chinquapin Park/Belvedere         3385.50   69.0      23.2   \n",
       "19          Orangeville/East Highlandtown         4512.61   12.2      51.6   \n",
       "20   Medfield/Hampden/Woodberry/Remington         4431.31   11.6      77.2   \n",
       "21              Penn North/Reservoir Hill         3260.27   90.3       5.7   \n",
       "22                            Fells Point        10456.30    7.8      69.8   \n",
       "23                   Dorchester/Ashburton         3490.07   96.1       1.3   \n",
       "24        Greater Charles Village/Barclay         5482.58   34.7      43.8   \n",
       "25              Inner Harbor/Federal Hill        19017.39   11.5      79.5   \n",
       "26             Howard Park/West Arlington         2670.36   94.3       2.2   \n",
       "27                        South Baltimore         6690.65    2.7      90.3   \n",
       "28               Harbor East/Little Italy         7265.05   57.9      28.5   \n",
       "29               Dickeyville/Franklintown         3478.61   87.8       8.2   \n",
       "30        Greater Roland Park/Poplar Hill        11168.40    7.9      77.5   \n",
       "31                            Cherry Hill         2596.64   95.1       1.6   \n",
       "32                Cross-Country/Cheswolde         8614.37   20.4      72.1   \n",
       "33                             Lauraville         3225.44   58.0      35.8   \n",
       "34      North Baltimore/Guilford/Homeland        11051.55   11.8      75.0   \n",
       "\n",
       "    pasi10  p2more10  ppac10  phisp10  \n",
       "0      1.7       4.1     0.7      9.8  \n",
       "1      0.5       1.1     0.3      1.2  \n",
       "2      0.1       1.1     0.4      1.3  \n",
       "3      3.4       1.3     0.4      5.0  \n",
       "4      1.0       1.4     0.4      1.7  \n",
       "5      0.3       1.0     0.2      0.7  \n",
       "6      0.6       1.4     0.4      1.4  \n",
       "7      5.3       2.5     0.7      3.4  \n",
       "8      0.1       1.2     0.4      0.9  \n",
       "9      0.5       1.3     0.5      1.3  \n",
       "10     2.3       1.8     0.4      2.0  \n",
       "11     2.4       2.4     0.8      4.3  \n",
       "12     3.9       2.4     0.5      2.5  \n",
       "13     2.0       1.8     0.4     13.1  \n",
       "14    15.9       2.8     0.6      4.5  \n",
       "15     1.3       1.5     0.2      1.8  \n",
       "16     0.8       1.5     0.4      1.6  \n",
       "17     2.0       1.0     0.3      1.7  \n",
       "18     1.7       1.8     0.6      3.7  \n",
       "19     3.0       1.9     0.9     30.3  \n",
       "20     5.0       2.2     0.5      3.6  \n",
       "21     0.3       1.7     0.5      1.5  \n",
       "22     4.6       2.0     0.7     15.1  \n",
       "23     0.3       0.8     0.4      1.0  \n",
       "24    13.3       2.8     0.6      4.8  \n",
       "25     3.9       1.6     0.4      3.2  \n",
       "26     0.3       1.3     0.3      1.6  \n",
       "27     2.7       1.5     0.3      2.6  \n",
       "28     4.6       1.6     0.6      6.8  \n",
       "29     0.5       1.0     0.6      1.9  \n",
       "30     9.8       1.9     0.2      2.6  \n",
       "31     0.2       1.1     0.3      1.6  \n",
       "32     3.7       1.2     0.4      2.2  \n",
       "33     1.0       2.4     0.6      2.3  \n",
       "34     7.5       1.9     0.3      3.3  "
      ]
     },
     "execution_count": 3,
     "metadata": {},
     "output_type": "execute_result"
    }
   ],
   "source": [
    "df"
   ]
  },
  {
   "cell_type": "markdown",
   "metadata": {},
   "source": [
    "# Plotting all of the population data vs Tax Average\n",
    "# Blue = African American\n",
    "# Green = White\n",
    "# Red = Asian\n",
    "# Cyan = Hispanic\n",
    "# Magenta = 2 or more races\n",
    "# Yellow = Other"
   ]
  },
  {
   "cell_type": "code",
   "execution_count": 7,
   "metadata": {
    "scrolled": false
   },
   "outputs": [
    {
     "data": {
      "image/png": "[encoded data removed]",
      "text/plain": [
       "<Figure size 432x288 with 1 Axes>"
      ]
     },
     "metadata": {
      "needs_background": "light"
     },
     "output_type": "display_data"
    }
   ],
   "source": [
    "plt.scatter(df.CityTaxAverage, df.paa10, color='b')\n",
    "plt.scatter(df.CityTaxAverage, df.pwhite10, color='g')\n",
    "plt.scatter(df.CityTaxAverage, df.pasi10, color='r')\n",
    "plt.scatter(df.CityTaxAverage, df.phisp10, color='c')\n",
    "plt.scatter(df.CityTaxAverage, df.p2more10, color='m')\n",
    "plt.scatter(df.CityTaxAverage, df.ppac10, color='y')\n",
    "plt.xlabel('Average City Tax')\n",
    "plt.ylabel('Population')\n",
    "plt.show()"
   ]
  },
  {
   "cell_type": "markdown",
   "metadata": {},
   "source": [
    "# Getting a closer look at the bulk of the data points"
   ]
  },
  {
   "cell_type": "code",
   "execution_count": 9,
   "metadata": {},
   "outputs": [
    {
     "data": {
      "image/png": "[encoded data removed]",
      "text/plain": [
       "<Figure size 432x288 with 1 Axes>"
      ]
     },
     "metadata": {
      "needs_background": "light"
     },
     "output_type": "display_data"
    }
   ],
   "source": [
    "plt.scatter(df.CityTaxAverage, df.paa10, color='b')\n",
    "plt.scatter(df.CityTaxAverage, df.pwhite10, color='g')\n",
    "plt.scatter(df.CityTaxAverage, df.pasi10, color='r')\n",
    "plt.scatter(df.CityTaxAverage, df.phisp10, color='c')\n",
    "plt.scatter(df.CityTaxAverage, df.p2more10, color='m')\n",
    "plt.scatter(df.CityTaxAverage, df.ppac10, color='y')\n",
    "plt.xlabel('Average City Tax')\n",
    "plt.ylabel('Population')\n",
    "plt.xlim(0,12000)\n",
    "plt.show()"
   ]
  },
  {
   "cell_type": "markdown",
   "metadata": {},
   "source": [
    "# Figuring out what race is in the majority in a neighborhood\n",
    "# This will reduce all off the clutter, and Black/White populations\n",
    "# will be more important"
   ]
  },
  {
   "cell_type": "code",
   "execution_count": 14,
   "metadata": {},
   "outputs": [],
   "source": [
    "aaCensus = []\n",
    "aaTax = []\n",
    "whiteCensus = []\n",
    "whiteTax = []\n",
    "\n",
    "for i in df.index:\n",
    "    if df.paa10[i] > df.pwhite10[i]:\n",
    "        aaCensus.append(df.paa10[i])\n",
    "        aaTax.append(df.CityTaxAverage[i])\n",
    "    else:\n",
    "        whiteCensus.append(df.pwhite10[i])\n",
    "        whiteTax.append(df.CityTaxAverage[i])\n",
    "        "
   ]
  },
  {
   "cell_type": "markdown",
   "metadata": {},
   "source": [
    "# We can see all of the majority black populations have low property tax\n",
    "# We also see that as tax rises, the neighborhoods are majority white"
   ]
  },
  {
   "cell_type": "code",
   "execution_count": 17,
   "metadata": {
    "scrolled": true
   },
   "outputs": [
    {
     "data": {
      "image/png": "[encoded data removed]",
      "text/plain": [
       "<Figure size 432x288 with 1 Axes>"
      ]
     },
     "metadata": {
      "needs_background": "light"
     },
     "output_type": "display_data"
    }
   ],
   "source": [
    "plt.scatter(aaTax, aaCensus, color='b')\n",
    "plt.scatter(whiteTax, whiteCensus, color='g')\n",
    "plt.xlabel('Average City Tax')\n",
    "plt.ylabel('Population')\n",
    "plt.xlim(0,12000)\n",
    "plt.show()"
   ]
  },
  {
   "cell_type": "markdown",
   "metadata": {},
   "source": [
    "# Gunna use linear regression on the white population"
   ]
  },
  {
   "cell_type": "code",
   "execution_count": 18,
   "metadata": {},
   "outputs": [],
   "source": [
    "from sklearn.metrics import mean_squared_error, r2_score\n",
    "from sklearn.model_selection import train_test_split\n",
    "from sklearn.linear_model import LinearRegression"
   ]
  },
  {
   "cell_type": "markdown",
   "metadata": {},
   "source": [
    "# Setting up the arrays"
   ]
  },
  {
   "cell_type": "code",
   "execution_count": 21,
   "metadata": {},
   "outputs": [],
   "source": [
    "x = []\n",
    "y = whiteCensus\n",
    "for i in whiteTax:\n",
    "    x.append([i])"
   ]
  },
  {
   "cell_type": "code",
   "execution_count": 20,
   "metadata": {},
   "outputs": [
    {
     "data": {
      "text/plain": [
       "[[1746.23],\n",
       " [6531.88],\n",
       " [2872.08],\n",
       " [6532.62],\n",
       " [33655.78],\n",
       " [4512.61],\n",
       " [4431.31],\n",
       " [10456.3],\n",
       " [5482.58],\n",
       " [19017.39],\n",
       " [6690.65],\n",
       " [11168.4],\n",
       " [8614.37],\n",
       " [11051.55]]"
      ]
     },
     "execution_count": 20,
     "metadata": {},
     "output_type": "execute_result"
    }
   ],
   "source": [
    "x"
   ]
  },
  {
   "cell_type": "code",
   "execution_count": 22,
   "metadata": {},
   "outputs": [
    {
     "data": {
      "text/plain": [
       "[47.8,\n",
       " 86.0,\n",
       " 72.5,\n",
       " 68.0,\n",
       " 39.2,\n",
       " 51.6,\n",
       " 77.2,\n",
       " 69.8,\n",
       " 43.8,\n",
       " 79.5,\n",
       " 90.3,\n",
       " 77.5,\n",
       " 72.1,\n",
       " 75.0]"
      ]
     },
     "execution_count": 22,
     "metadata": {},
     "output_type": "execute_result"
    }
   ],
   "source": [
    "y"
   ]
  },
  {
   "cell_type": "code",
   "execution_count": 33,
   "metadata": {},
   "outputs": [],
   "source": [
    "xTrain, xTest, yTrain, yTest = train_test_split(x, y, test_size = 1/3,\n",
    "                                               random_state = 0)"
   ]
  },
  {
   "cell_type": "code",
   "execution_count": 34,
   "metadata": {},
   "outputs": [],
   "source": [
    "linearRegressor = LinearRegression()"
   ]
  },
  {
   "cell_type": "code",
   "execution_count": 35,
   "metadata": {},
   "outputs": [
    {
     "data": {
      "text/plain": [
       "LinearRegression(copy_X=True, fit_intercept=True, n_jobs=None,\n",
       "         normalize=False)"
      ]
     },
     "execution_count": 35,
     "metadata": {},
     "output_type": "execute_result"
    }
   ],
   "source": [
    "linearRegressor.fit(xTrain, yTrain)"
   ]
  },
  {
   "cell_type": "code",
   "execution_count": 36,
   "metadata": {},
   "outputs": [],
   "source": [
    "yPrediction = linearRegressor.predict(xTest)"
   ]
  },
  {
   "cell_type": "markdown",
   "metadata": {},
   "source": [
    "# So it's not perfect, but it's also not terrible."
   ]
  },
  {
   "cell_type": "code",
   "execution_count": 37,
   "metadata": {
    "scrolled": true
   },
   "outputs": [
    {
     "data": {
      "text/plain": [
       "Text(0, 0.5, 'White Population')"
      ]
     },
     "execution_count": 37,
     "metadata": {},
     "output_type": "execute_result"
    },
    {
     "data": {
      "image/png": "[encoded data removed]",
      "text/plain": [
       "<Figure size 432x288 with 1 Axes>"
      ]
     },
     "metadata": {
      "needs_background": "light"
     },
     "output_type": "display_data"
    }
   ],
   "source": [
    "plt.scatter(xTrain, yTrain, color = 'red')\n",
    "plt.plot(xTrain, linearRegressor.predict(xTrain), color = 'blue')\n",
    "plt.title('City Tax vs White Population (Training)')\n",
    "plt.xlabel('City Tax')\n",
    "plt.ylabel('White Population')"
   ]
  },
  {
   "cell_type": "code",
   "execution_count": 38,
   "metadata": {},
   "outputs": [
    {
     "data": {
      "text/plain": [
       "Text(0, 0.5, 'White Population')"
      ]
     },
     "execution_count": 38,
     "metadata": {},
     "output_type": "execute_result"
    },
    {
     "data": {
      "image/png": "[encoded data removed]",
      "text/plain": [
       "<Figure size 432x288 with 1 Axes>"
      ]
     },
     "metadata": {
      "needs_background": "light"
     },
     "output_type": "display_data"
    }
   ],
   "source": [
    "plt.scatter(xTest, yTest, color = 'red')\n",
    "plt.plot(xTrain, linearRegressor.predict(xTrain), color = 'blue')\n",
    "plt.title('City Tax vs White Population (Test)')\n",
    "plt.xlabel('City Tax')\n",
    "plt.ylabel('White Population')"
   ]
  },
  {
   "cell_type": "code",
   "execution_count": 39,
   "metadata": {},
   "outputs": [
    {
     "name": "stdout",
     "output_type": "stream",
     "text": [
      "Coeifficients:  [0.0014126]\n",
      "Mean squared error: 1068.87\n",
      "Variance score: -2.73\n"
     ]
    }
   ],
   "source": [
    "print('Coeifficients: ', linearRegressor.coef_)\n",
    "print(\"Mean squared error: %.2f\"\n",
    "     % mean_squared_error(yTest, yPrediction))\n",
    "print('Variance score: %.2f' \n",
    "     % r2_score(yTest, yPrediction))"
   ]
  },
  {
   "cell_type": "code",
   "execution_count": null,
   "metadata": {},
   "outputs": [],
   "source": []
  }
 ],
 "metadata": {
  "kernelspec": {
   "display_name": "Python 3",
   "language": "python",
   "name": "python3"
  },
  "language_info": {
   "codemirror_mode": {
    "name": "ipython",
    "version": 3
   },
   "file_extension": ".py",
   "mimetype": "text/x-python",
   "name": "python",
   "nbconvert_exporter": "python",
   "pygments_lexer": "ipython3",
   "version": "3.7.1"
  }
 },
 "nbformat": 4,
 "nbformat_minor": 2
}
