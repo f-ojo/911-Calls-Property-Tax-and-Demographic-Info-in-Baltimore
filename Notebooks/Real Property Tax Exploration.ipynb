{
 "cells": [
  {
   "cell_type": "code",
   "execution_count": 1,
   "metadata": {},
   "outputs": [],
   "source": [
    "import pandas as pd\n",
    "import numpy as np"
   ]
  },
  {
   "cell_type": "markdown",
   "metadata": {},
   "source": [
    "# Real property tax is calculated according to the fair market value of the real estate\n",
    "\n",
    "# Tax is accessed as a percentage of the amount for which the owner would be able to sell\n",
    "\n",
    "# RPT will increase when the property is bullish and decline when bearish"
   ]
  },
  {
   "cell_type": "code",
   "execution_count": 2,
   "metadata": {},
   "outputs": [],
   "source": [
    "df = pd.read_csv('Real_Property_Taxes.csv')"
   ]
  },
  {
   "cell_type": "markdown",
   "metadata": {},
   "source": [
    "# Nothing too interesting in the head or tail.\n",
    "# I'm seeing plenty of NaN values in the numerical columns\n",
    "# LotSize looks like it will be a mess"
   ]
  },
  {
   "cell_type": "code",
   "execution_count": 3,
   "metadata": {
    "scrolled": true
   },
   "outputs": [
    {
     "data": {
      "text/html": [
       "<div>\n",
       "<style scoped>\n",
       "    .dataframe tbody tr th:only-of-type {\n",
       "        vertical-align: middle;\n",
       "    }\n",
       "\n",
       "    .dataframe tbody tr th {\n",
       "        vertical-align: top;\n",
       "    }\n",
       "\n",
       "    .dataframe thead th {\n",
       "        text-align: right;\n",
       "    }\n",
       "</style>\n",
       "<table border=\"1\" class=\"dataframe\">\n",
       "  <thead>\n",
       "    <tr style=\"text-align: right;\">\n",
       "      <th></th>\n",
       "      <th>PropertyID</th>\n",
       "      <th>Block</th>\n",
       "      <th>Lot</th>\n",
       "      <th>Ward</th>\n",
       "      <th>Sect</th>\n",
       "      <th>PropertyAddress</th>\n",
       "      <th>LotSize</th>\n",
       "      <th>CityTax</th>\n",
       "      <th>StateTax</th>\n",
       "      <th>ResCode</th>\n",
       "      <th>AmountDue</th>\n",
       "      <th>AsOfDate</th>\n",
       "      <th>Neighborhood</th>\n",
       "      <th>PoliceDistrict</th>\n",
       "      <th>CouncilDistrict</th>\n",
       "      <th>Location</th>\n",
       "    </tr>\n",
       "  </thead>\n",
       "  <tbody>\n",
       "    <tr>\n",
       "      <th>0</th>\n",
       "      <td>7129028</td>\n",
       "      <td>7129</td>\n",
       "      <td>028</td>\n",
       "      <td>25</td>\n",
       "      <td>60</td>\n",
       "      <td>3922 6TH ST</td>\n",
       "      <td>15X119-10</td>\n",
       "      <td>1,317.33</td>\n",
       "      <td>65.63</td>\n",
       "      <td>PRINCIPAL RESIDENCE</td>\n",
       "      <td>651.50</td>\n",
       "      <td>12/31/2018</td>\n",
       "      <td>Brooklyn</td>\n",
       "      <td>Southern</td>\n",
       "      <td>10.0</td>\n",
       "      <td>(39.23216993, -76.60422563)</td>\n",
       "    </tr>\n",
       "    <tr>\n",
       "      <th>1</th>\n",
       "      <td>0001002</td>\n",
       "      <td>0001</td>\n",
       "      <td>002</td>\n",
       "      <td>15</td>\n",
       "      <td>370</td>\n",
       "      <td>2043 W NORTH AVE</td>\n",
       "      <td>14X83-10</td>\n",
       "      <td>1,112.76</td>\n",
       "      <td>55.44</td>\n",
       "      <td>NOT A PRINCIPAL RESIDENCE</td>\n",
       "      <td>NaN</td>\n",
       "      <td>06/04/2018</td>\n",
       "      <td>Easterwood</td>\n",
       "      <td>Western</td>\n",
       "      <td>7.0</td>\n",
       "      <td>(39.30941619, -76.65109034)</td>\n",
       "    </tr>\n",
       "    <tr>\n",
       "      <th>2</th>\n",
       "      <td>0001004</td>\n",
       "      <td>0001</td>\n",
       "      <td>004</td>\n",
       "      <td>15</td>\n",
       "      <td>370</td>\n",
       "      <td>2039 W NORTH AVE</td>\n",
       "      <td>14X83-10</td>\n",
       "      <td>472.08</td>\n",
       "      <td>23.52</td>\n",
       "      <td>NOT A PRINCIPAL RESIDENCE</td>\n",
       "      <td>NaN</td>\n",
       "      <td>06/04/2018</td>\n",
       "      <td>Easterwood</td>\n",
       "      <td>Western</td>\n",
       "      <td>7.0</td>\n",
       "      <td>(39.30941951, -76.65099026)</td>\n",
       "    </tr>\n",
       "    <tr>\n",
       "      <th>3</th>\n",
       "      <td>0001005</td>\n",
       "      <td>0001</td>\n",
       "      <td>005</td>\n",
       "      <td>15</td>\n",
       "      <td>370</td>\n",
       "      <td>2037 W NORTH AVE</td>\n",
       "      <td>14X83-10</td>\n",
       "      <td>472.08</td>\n",
       "      <td>23.52</td>\n",
       "      <td>NOT A PRINCIPAL RESIDENCE</td>\n",
       "      <td>NaN</td>\n",
       "      <td>06/04/2018</td>\n",
       "      <td>Easterwood</td>\n",
       "      <td>Western</td>\n",
       "      <td>7.0</td>\n",
       "      <td>(39.30942111, -76.65094166)</td>\n",
       "    </tr>\n",
       "    <tr>\n",
       "      <th>4</th>\n",
       "      <td>0001006</td>\n",
       "      <td>0001</td>\n",
       "      <td>006</td>\n",
       "      <td>15</td>\n",
       "      <td>370</td>\n",
       "      <td>2035 W NORTH AVE</td>\n",
       "      <td>14X83-10</td>\n",
       "      <td>247.28</td>\n",
       "      <td>12.32</td>\n",
       "      <td>NOT A PRINCIPAL RESIDENCE</td>\n",
       "      <td>NaN</td>\n",
       "      <td>06/04/2018</td>\n",
       "      <td>Easterwood</td>\n",
       "      <td>Western</td>\n",
       "      <td>7.0</td>\n",
       "      <td>(39.30942277, -76.65089166)</td>\n",
       "    </tr>\n",
       "    <tr>\n",
       "      <th>5</th>\n",
       "      <td>7129031</td>\n",
       "      <td>7129</td>\n",
       "      <td>031</td>\n",
       "      <td>25</td>\n",
       "      <td>60</td>\n",
       "      <td>3914 6TH ST</td>\n",
       "      <td>20X120-4</td>\n",
       "      <td>1,348.80</td>\n",
       "      <td>67.20</td>\n",
       "      <td>PRINCIPAL RESIDENCE</td>\n",
       "      <td>666.60</td>\n",
       "      <td>12/31/2018</td>\n",
       "      <td>Brooklyn</td>\n",
       "      <td>Southern</td>\n",
       "      <td>10.0</td>\n",
       "      <td>(39.23235197, -76.60434791)</td>\n",
       "    </tr>\n",
       "    <tr>\n",
       "      <th>6</th>\n",
       "      <td>4179P033</td>\n",
       "      <td>4179P</td>\n",
       "      <td>033</td>\n",
       "      <td>26</td>\n",
       "      <td>340</td>\n",
       "      <td>3811 LYNDALE AVE</td>\n",
       "      <td>14X100</td>\n",
       "      <td>2,032.19</td>\n",
       "      <td>101.25</td>\n",
       "      <td>NOT A PRINCIPAL RESIDENCE</td>\n",
       "      <td>2,123.28</td>\n",
       "      <td>07/01/2018</td>\n",
       "      <td>Belair-Edison</td>\n",
       "      <td>Notheastern</td>\n",
       "      <td>13.0</td>\n",
       "      <td>(39.31680208, -76.56505749)</td>\n",
       "    </tr>\n",
       "    <tr>\n",
       "      <th>7</th>\n",
       "      <td>0001009</td>\n",
       "      <td>0001</td>\n",
       "      <td>009</td>\n",
       "      <td>15</td>\n",
       "      <td>370</td>\n",
       "      <td>2029 W NORTH AVE</td>\n",
       "      <td>14X83-10</td>\n",
       "      <td>472.08</td>\n",
       "      <td>23.52</td>\n",
       "      <td>NOT A PRINCIPAL RESIDENCE</td>\n",
       "      <td>NaN</td>\n",
       "      <td>06/04/2018</td>\n",
       "      <td>Easterwood</td>\n",
       "      <td>Western</td>\n",
       "      <td>7.0</td>\n",
       "      <td>(39.30942756, -76.65074605)</td>\n",
       "    </tr>\n",
       "    <tr>\n",
       "      <th>8</th>\n",
       "      <td>0001010</td>\n",
       "      <td>0001</td>\n",
       "      <td>010</td>\n",
       "      <td>15</td>\n",
       "      <td>370</td>\n",
       "      <td>2027 W NORTH AVE</td>\n",
       "      <td>14X83-10</td>\n",
       "      <td>472.08</td>\n",
       "      <td>23.52</td>\n",
       "      <td>NOT A PRINCIPAL RESIDENCE</td>\n",
       "      <td>NaN</td>\n",
       "      <td>06/04/2018</td>\n",
       "      <td>Easterwood</td>\n",
       "      <td>Western</td>\n",
       "      <td>7.0</td>\n",
       "      <td>(39.30942925, -76.65069531)</td>\n",
       "    </tr>\n",
       "    <tr>\n",
       "      <th>9</th>\n",
       "      <td>0001011</td>\n",
       "      <td>0001</td>\n",
       "      <td>011</td>\n",
       "      <td>15</td>\n",
       "      <td>370</td>\n",
       "      <td>2025 W NORTH AVE</td>\n",
       "      <td>14X83-10</td>\n",
       "      <td>472.08</td>\n",
       "      <td>23.52</td>\n",
       "      <td>NOT A PRINCIPAL RESIDENCE</td>\n",
       "      <td>NaN</td>\n",
       "      <td>06/04/2018</td>\n",
       "      <td>Easterwood</td>\n",
       "      <td>Western</td>\n",
       "      <td>7.0</td>\n",
       "      <td>(39.30943089, -76.65064581)</td>\n",
       "    </tr>\n",
       "  </tbody>\n",
       "</table>\n",
       "</div>"
      ],
      "text/plain": [
       "  PropertyID  Block  Lot  Ward  Sect   PropertyAddress            LotSize  \\\n",
       "0    7129028   7129  028    25    60       3922 6TH ST  15X119-10           \n",
       "1    0001002   0001  002    15   370  2043 W NORTH AVE  14X83-10            \n",
       "2    0001004   0001  004    15   370  2039 W NORTH AVE  14X83-10            \n",
       "3    0001005   0001  005    15   370  2037 W NORTH AVE  14X83-10            \n",
       "4    0001006   0001  006    15   370  2035 W NORTH AVE  14X83-10            \n",
       "5    7129031   7129  031    25    60       3914 6TH ST  20X120-4            \n",
       "6   4179P033  4179P  033    26   340  3811 LYNDALE AVE  14X100              \n",
       "7    0001009   0001  009    15   370  2029 W NORTH AVE  14X83-10            \n",
       "8    0001010   0001  010    15   370  2027 W NORTH AVE  14X83-10            \n",
       "9    0001011   0001  011    15   370  2025 W NORTH AVE  14X83-10            \n",
       "\n",
       "    CityTax StateTax                    ResCode AmountDue    AsOfDate  \\\n",
       "0  1,317.33    65.63  PRINCIPAL RESIDENCE          651.50  12/31/2018   \n",
       "1  1,112.76    55.44  NOT A PRINCIPAL RESIDENCE       NaN  06/04/2018   \n",
       "2    472.08    23.52  NOT A PRINCIPAL RESIDENCE       NaN  06/04/2018   \n",
       "3    472.08    23.52  NOT A PRINCIPAL RESIDENCE       NaN  06/04/2018   \n",
       "4    247.28    12.32  NOT A PRINCIPAL RESIDENCE       NaN  06/04/2018   \n",
       "5  1,348.80    67.20  PRINCIPAL RESIDENCE          666.60  12/31/2018   \n",
       "6  2,032.19   101.25  NOT A PRINCIPAL RESIDENCE  2,123.28  07/01/2018   \n",
       "7    472.08    23.52  NOT A PRINCIPAL RESIDENCE       NaN  06/04/2018   \n",
       "8    472.08    23.52  NOT A PRINCIPAL RESIDENCE       NaN  06/04/2018   \n",
       "9    472.08    23.52  NOT A PRINCIPAL RESIDENCE       NaN  06/04/2018   \n",
       "\n",
       "    Neighborhood PoliceDistrict  CouncilDistrict                     Location  \n",
       "0       Brooklyn       Southern             10.0  (39.23216993, -76.60422563)  \n",
       "1     Easterwood        Western              7.0  (39.30941619, -76.65109034)  \n",
       "2     Easterwood        Western              7.0  (39.30941951, -76.65099026)  \n",
       "3     Easterwood        Western              7.0  (39.30942111, -76.65094166)  \n",
       "4     Easterwood        Western              7.0  (39.30942277, -76.65089166)  \n",
       "5       Brooklyn       Southern             10.0  (39.23235197, -76.60434791)  \n",
       "6  Belair-Edison    Notheastern             13.0  (39.31680208, -76.56505749)  \n",
       "7     Easterwood        Western              7.0  (39.30942756, -76.65074605)  \n",
       "8     Easterwood        Western              7.0  (39.30942925, -76.65069531)  \n",
       "9     Easterwood        Western              7.0  (39.30943089, -76.65064581)  "
      ]
     },
     "execution_count": 3,
     "metadata": {},
     "output_type": "execute_result"
    }
   ],
   "source": [
    "df.head(10)"
   ]
  },
  {
   "cell_type": "code",
   "execution_count": 4,
   "metadata": {
    "scrolled": true
   },
   "outputs": [
    {
     "data": {
      "text/html": [
       "<div>\n",
       "<style scoped>\n",
       "    .dataframe tbody tr th:only-of-type {\n",
       "        vertical-align: middle;\n",
       "    }\n",
       "\n",
       "    .dataframe tbody tr th {\n",
       "        vertical-align: top;\n",
       "    }\n",
       "\n",
       "    .dataframe thead th {\n",
       "        text-align: right;\n",
       "    }\n",
       "</style>\n",
       "<table border=\"1\" class=\"dataframe\">\n",
       "  <thead>\n",
       "    <tr style=\"text-align: right;\">\n",
       "      <th></th>\n",
       "      <th>PropertyID</th>\n",
       "      <th>Block</th>\n",
       "      <th>Lot</th>\n",
       "      <th>Ward</th>\n",
       "      <th>Sect</th>\n",
       "      <th>PropertyAddress</th>\n",
       "      <th>LotSize</th>\n",
       "      <th>CityTax</th>\n",
       "      <th>StateTax</th>\n",
       "      <th>ResCode</th>\n",
       "      <th>AmountDue</th>\n",
       "      <th>AsOfDate</th>\n",
       "      <th>Neighborhood</th>\n",
       "      <th>PoliceDistrict</th>\n",
       "      <th>CouncilDistrict</th>\n",
       "      <th>Location</th>\n",
       "    </tr>\n",
       "  </thead>\n",
       "  <tbody>\n",
       "    <tr>\n",
       "      <th>238586</th>\n",
       "      <td>4203018</td>\n",
       "      <td>4203</td>\n",
       "      <td>018</td>\n",
       "      <td>27</td>\n",
       "      <td>220</td>\n",
       "      <td>3224 SHELBURNE ROAD</td>\n",
       "      <td>50X101-7</td>\n",
       "      <td>7,386.93</td>\n",
       "      <td>368.03</td>\n",
       "      <td>PRINCIPAL RESIDENCE</td>\n",
       "      <td>7,149.38</td>\n",
       "      <td>07/01/2018</td>\n",
       "      <td>Cross Country</td>\n",
       "      <td>Northwestern</td>\n",
       "      <td>5.0</td>\n",
       "      <td>(39.37182336, -76.70236543)</td>\n",
       "    </tr>\n",
       "    <tr>\n",
       "      <th>238587</th>\n",
       "      <td>4203030B</td>\n",
       "      <td>4203</td>\n",
       "      <td>030B</td>\n",
       "      <td>27</td>\n",
       "      <td>220</td>\n",
       "      <td>3319 SHELBURNE ROAD</td>\n",
       "      <td>50X122-7</td>\n",
       "      <td>4,520.73</td>\n",
       "      <td>225.23</td>\n",
       "      <td>PRINCIPAL RESIDENCE</td>\n",
       "      <td>NaN</td>\n",
       "      <td>07/01/2018</td>\n",
       "      <td>Cross Country</td>\n",
       "      <td>Northwestern</td>\n",
       "      <td>5.0</td>\n",
       "      <td>(39.37136636, -76.7046123)</td>\n",
       "    </tr>\n",
       "    <tr>\n",
       "      <th>238588</th>\n",
       "      <td>4203030C</td>\n",
       "      <td>4203</td>\n",
       "      <td>030C</td>\n",
       "      <td>27</td>\n",
       "      <td>220</td>\n",
       "      <td>3317 SHELBURNE ROAD</td>\n",
       "      <td>50X123-1</td>\n",
       "      <td>NaN</td>\n",
       "      <td>NaN</td>\n",
       "      <td>PRINCIPAL RESIDENCE</td>\n",
       "      <td>268.90</td>\n",
       "      <td>06/30/2018</td>\n",
       "      <td>Cross Country</td>\n",
       "      <td>Northwestern</td>\n",
       "      <td>5.0</td>\n",
       "      <td>(39.37136999, -76.7044314)</td>\n",
       "    </tr>\n",
       "    <tr>\n",
       "      <th>238589</th>\n",
       "      <td>4203037</td>\n",
       "      <td>4203</td>\n",
       "      <td>037</td>\n",
       "      <td>27</td>\n",
       "      <td>220</td>\n",
       "      <td>3303 SHELBURNE ROAD</td>\n",
       "      <td>50X126-8</td>\n",
       "      <td>5,008.54</td>\n",
       "      <td>249.54</td>\n",
       "      <td>PRINCIPAL RESIDENCE</td>\n",
       "      <td>4,674.97</td>\n",
       "      <td>07/01/2018</td>\n",
       "      <td>Cross Country</td>\n",
       "      <td>Northwestern</td>\n",
       "      <td>5.0</td>\n",
       "      <td>(39.37138835, -76.70319233)</td>\n",
       "    </tr>\n",
       "    <tr>\n",
       "      <th>238590</th>\n",
       "      <td>4203039</td>\n",
       "      <td>4203</td>\n",
       "      <td>039</td>\n",
       "      <td>27</td>\n",
       "      <td>220</td>\n",
       "      <td>3229 SHELBURNE ROAD</td>\n",
       "      <td>50X127-7</td>\n",
       "      <td>5,570.54</td>\n",
       "      <td>277.54</td>\n",
       "      <td>PRINCIPAL RESIDENCE</td>\n",
       "      <td>3,486.31</td>\n",
       "      <td>07/01/2018</td>\n",
       "      <td>Cross Country</td>\n",
       "      <td>Northwestern</td>\n",
       "      <td>5.0</td>\n",
       "      <td>(39.37139497, -76.70270492)</td>\n",
       "    </tr>\n",
       "    <tr>\n",
       "      <th>238591</th>\n",
       "      <td>4203041</td>\n",
       "      <td>4203</td>\n",
       "      <td>041</td>\n",
       "      <td>27</td>\n",
       "      <td>220</td>\n",
       "      <td>3225 SHELBURNE ROAD</td>\n",
       "      <td>50X129-1</td>\n",
       "      <td>4,925.37</td>\n",
       "      <td>245.39</td>\n",
       "      <td>NOT A PRINCIPAL RESIDENCE</td>\n",
       "      <td>5,146.13</td>\n",
       "      <td>07/01/2018</td>\n",
       "      <td>Cross Country</td>\n",
       "      <td>Northwestern</td>\n",
       "      <td>5.0</td>\n",
       "      <td>(39.37140057, -76.70234186)</td>\n",
       "    </tr>\n",
       "    <tr>\n",
       "      <th>238592</th>\n",
       "      <td>4203044</td>\n",
       "      <td>4203</td>\n",
       "      <td>044</td>\n",
       "      <td>27</td>\n",
       "      <td>220</td>\n",
       "      <td>3219 SHELBURNE ROAD</td>\n",
       "      <td>57-11X130-9</td>\n",
       "      <td>6,436.02</td>\n",
       "      <td>320.66</td>\n",
       "      <td>PRINCIPAL RESIDENCE</td>\n",
       "      <td>4,471.36</td>\n",
       "      <td>12/01/2018</td>\n",
       "      <td>Cross Country</td>\n",
       "      <td>Northwestern</td>\n",
       "      <td>5.0</td>\n",
       "      <td>(39.37140848, -76.70179725)</td>\n",
       "    </tr>\n",
       "    <tr>\n",
       "      <th>238593</th>\n",
       "      <td>4203045</td>\n",
       "      <td>4203</td>\n",
       "      <td>045</td>\n",
       "      <td>27</td>\n",
       "      <td>220</td>\n",
       "      <td>3217 SHELBURNE ROAD</td>\n",
       "      <td>57-11X131-4</td>\n",
       "      <td>6,069.60</td>\n",
       "      <td>302.40</td>\n",
       "      <td>PRINCIPAL RESIDENCE</td>\n",
       "      <td>4,570.90</td>\n",
       "      <td>07/01/2018</td>\n",
       "      <td>Cross Country</td>\n",
       "      <td>Northwestern</td>\n",
       "      <td>5.0</td>\n",
       "      <td>(39.37141104, -76.70159253)</td>\n",
       "    </tr>\n",
       "    <tr>\n",
       "      <th>238594</th>\n",
       "      <td>4203040</td>\n",
       "      <td>4203</td>\n",
       "      <td>040</td>\n",
       "      <td>27</td>\n",
       "      <td>220</td>\n",
       "      <td>3227 SHELBURNE ROAD</td>\n",
       "      <td>50X128-7</td>\n",
       "      <td>4,745.53</td>\n",
       "      <td>236.43</td>\n",
       "      <td>PRINCIPAL RESIDENCE</td>\n",
       "      <td>1,608.60</td>\n",
       "      <td>12/31/2018</td>\n",
       "      <td>Cross Country</td>\n",
       "      <td>Northwestern</td>\n",
       "      <td>5.0</td>\n",
       "      <td>(39.37139808, -76.70251871)</td>\n",
       "    </tr>\n",
       "    <tr>\n",
       "      <th>238595</th>\n",
       "      <td>4203042</td>\n",
       "      <td>4203</td>\n",
       "      <td>042</td>\n",
       "      <td>27</td>\n",
       "      <td>220</td>\n",
       "      <td>3223 SHELBURNE ROAD</td>\n",
       "      <td>50X129-7</td>\n",
       "      <td>4,945.60</td>\n",
       "      <td>246.40</td>\n",
       "      <td>PRINCIPAL RESIDENCE</td>\n",
       "      <td>2,237.66</td>\n",
       "      <td>12/31/2018</td>\n",
       "      <td>Cross Country</td>\n",
       "      <td>Northwestern</td>\n",
       "      <td>5.0</td>\n",
       "      <td>(39.37140333, -76.70216499)</td>\n",
       "    </tr>\n",
       "  </tbody>\n",
       "</table>\n",
       "</div>"
      ],
      "text/plain": [
       "       PropertyID Block   Lot  Ward  Sect      PropertyAddress  \\\n",
       "238586    4203018  4203   018    27   220  3224 SHELBURNE ROAD   \n",
       "238587   4203030B  4203  030B    27   220  3319 SHELBURNE ROAD   \n",
       "238588   4203030C  4203  030C    27   220  3317 SHELBURNE ROAD   \n",
       "238589    4203037  4203   037    27   220  3303 SHELBURNE ROAD   \n",
       "238590    4203039  4203   039    27   220  3229 SHELBURNE ROAD   \n",
       "238591    4203041  4203   041    27   220  3225 SHELBURNE ROAD   \n",
       "238592    4203044  4203   044    27   220  3219 SHELBURNE ROAD   \n",
       "238593    4203045  4203   045    27   220  3217 SHELBURNE ROAD   \n",
       "238594    4203040  4203   040    27   220  3227 SHELBURNE ROAD   \n",
       "238595    4203042  4203   042    27   220  3223 SHELBURNE ROAD   \n",
       "\n",
       "                  LotSize   CityTax StateTax                    ResCode  \\\n",
       "238586  50X101-7           7,386.93   368.03  PRINCIPAL RESIDENCE         \n",
       "238587  50X122-7           4,520.73   225.23  PRINCIPAL RESIDENCE         \n",
       "238588  50X123-1                NaN      NaN  PRINCIPAL RESIDENCE         \n",
       "238589  50X126-8           5,008.54   249.54  PRINCIPAL RESIDENCE         \n",
       "238590  50X127-7           5,570.54   277.54  PRINCIPAL RESIDENCE         \n",
       "238591  50X129-1           4,925.37   245.39  NOT A PRINCIPAL RESIDENCE   \n",
       "238592  57-11X130-9        6,436.02   320.66  PRINCIPAL RESIDENCE         \n",
       "238593  57-11X131-4        6,069.60   302.40  PRINCIPAL RESIDENCE         \n",
       "238594  50X128-7           4,745.53   236.43  PRINCIPAL RESIDENCE         \n",
       "238595  50X129-7           4,945.60   246.40  PRINCIPAL RESIDENCE         \n",
       "\n",
       "       AmountDue    AsOfDate   Neighborhood PoliceDistrict  CouncilDistrict  \\\n",
       "238586  7,149.38  07/01/2018  Cross Country   Northwestern              5.0   \n",
       "238587       NaN  07/01/2018  Cross Country   Northwestern              5.0   \n",
       "238588    268.90  06/30/2018  Cross Country   Northwestern              5.0   \n",
       "238589  4,674.97  07/01/2018  Cross Country   Northwestern              5.0   \n",
       "238590  3,486.31  07/01/2018  Cross Country   Northwestern              5.0   \n",
       "238591  5,146.13  07/01/2018  Cross Country   Northwestern              5.0   \n",
       "238592  4,471.36  12/01/2018  Cross Country   Northwestern              5.0   \n",
       "238593  4,570.90  07/01/2018  Cross Country   Northwestern              5.0   \n",
       "238594  1,608.60  12/31/2018  Cross Country   Northwestern              5.0   \n",
       "238595  2,237.66  12/31/2018  Cross Country   Northwestern              5.0   \n",
       "\n",
       "                           Location  \n",
       "238586  (39.37182336, -76.70236543)  \n",
       "238587   (39.37136636, -76.7046123)  \n",
       "238588   (39.37136999, -76.7044314)  \n",
       "238589  (39.37138835, -76.70319233)  \n",
       "238590  (39.37139497, -76.70270492)  \n",
       "238591  (39.37140057, -76.70234186)  \n",
       "238592  (39.37140848, -76.70179725)  \n",
       "238593  (39.37141104, -76.70159253)  \n",
       "238594  (39.37139808, -76.70251871)  \n",
       "238595  (39.37140333, -76.70216499)  "
      ]
     },
     "execution_count": 4,
     "metadata": {},
     "output_type": "execute_result"
    }
   ],
   "source": [
    "df.tail(10)"
   ]
  },
  {
   "cell_type": "markdown",
   "metadata": {},
   "source": [
    "# PropertyID is a unique identifier. If we were using this to join another dataset with PropertyID it would be useful. \n",
    "\n",
    "# For our use, I do not see a use for it"
   ]
  },
  {
   "cell_type": "code",
   "execution_count": 5,
   "metadata": {},
   "outputs": [],
   "source": [
    "df.drop('PropertyID', axis=1, inplace=True)"
   ]
  },
  {
   "cell_type": "markdown",
   "metadata": {},
   "source": [
    "# Similarly - unless we have street names to compare. I don't see this being useful"
   ]
  },
  {
   "cell_type": "code",
   "execution_count": 6,
   "metadata": {},
   "outputs": [],
   "source": [
    "df.drop('PropertyAddress', axis=1, inplace=True)"
   ]
  },
  {
   "cell_type": "markdown",
   "metadata": {},
   "source": [
    "# For PoliceDistrict/CouncilDistrict/Location\n",
    "# We are using Neighborhood to link our databases\n",
    "# These are similar attributes but serve no purpose to us"
   ]
  },
  {
   "cell_type": "code",
   "execution_count": 7,
   "metadata": {},
   "outputs": [],
   "source": [
    "df.drop('PoliceDistrict', axis=1, inplace=True)"
   ]
  },
  {
   "cell_type": "code",
   "execution_count": 8,
   "metadata": {},
   "outputs": [],
   "source": [
    "df.drop('CouncilDistrict', axis=1, inplace=True)"
   ]
  },
  {
   "cell_type": "code",
   "execution_count": 9,
   "metadata": {},
   "outputs": [],
   "source": [
    "df.drop('Location', axis=1, inplace=True)"
   ]
  },
  {
   "cell_type": "markdown",
   "metadata": {},
   "source": [
    "# Seems much easier to look at now. \n",
    "# Let's look closer at a few columns"
   ]
  },
  {
   "cell_type": "code",
   "execution_count": 10,
   "metadata": {},
   "outputs": [
    {
     "data": {
      "text/html": [
       "<div>\n",
       "<style scoped>\n",
       "    .dataframe tbody tr th:only-of-type {\n",
       "        vertical-align: middle;\n",
       "    }\n",
       "\n",
       "    .dataframe tbody tr th {\n",
       "        vertical-align: top;\n",
       "    }\n",
       "\n",
       "    .dataframe thead th {\n",
       "        text-align: right;\n",
       "    }\n",
       "</style>\n",
       "<table border=\"1\" class=\"dataframe\">\n",
       "  <thead>\n",
       "    <tr style=\"text-align: right;\">\n",
       "      <th></th>\n",
       "      <th>Block</th>\n",
       "      <th>Lot</th>\n",
       "      <th>Ward</th>\n",
       "      <th>Sect</th>\n",
       "      <th>LotSize</th>\n",
       "      <th>CityTax</th>\n",
       "      <th>StateTax</th>\n",
       "      <th>ResCode</th>\n",
       "      <th>AmountDue</th>\n",
       "      <th>AsOfDate</th>\n",
       "      <th>Neighborhood</th>\n",
       "    </tr>\n",
       "  </thead>\n",
       "  <tbody>\n",
       "    <tr>\n",
       "      <th>0</th>\n",
       "      <td>7129</td>\n",
       "      <td>028</td>\n",
       "      <td>25</td>\n",
       "      <td>60</td>\n",
       "      <td>15X119-10</td>\n",
       "      <td>1,317.33</td>\n",
       "      <td>65.63</td>\n",
       "      <td>PRINCIPAL RESIDENCE</td>\n",
       "      <td>651.50</td>\n",
       "      <td>12/31/2018</td>\n",
       "      <td>Brooklyn</td>\n",
       "    </tr>\n",
       "    <tr>\n",
       "      <th>1</th>\n",
       "      <td>0001</td>\n",
       "      <td>002</td>\n",
       "      <td>15</td>\n",
       "      <td>370</td>\n",
       "      <td>14X83-10</td>\n",
       "      <td>1,112.76</td>\n",
       "      <td>55.44</td>\n",
       "      <td>NOT A PRINCIPAL RESIDENCE</td>\n",
       "      <td>NaN</td>\n",
       "      <td>06/04/2018</td>\n",
       "      <td>Easterwood</td>\n",
       "    </tr>\n",
       "    <tr>\n",
       "      <th>2</th>\n",
       "      <td>0001</td>\n",
       "      <td>004</td>\n",
       "      <td>15</td>\n",
       "      <td>370</td>\n",
       "      <td>14X83-10</td>\n",
       "      <td>472.08</td>\n",
       "      <td>23.52</td>\n",
       "      <td>NOT A PRINCIPAL RESIDENCE</td>\n",
       "      <td>NaN</td>\n",
       "      <td>06/04/2018</td>\n",
       "      <td>Easterwood</td>\n",
       "    </tr>\n",
       "    <tr>\n",
       "      <th>3</th>\n",
       "      <td>0001</td>\n",
       "      <td>005</td>\n",
       "      <td>15</td>\n",
       "      <td>370</td>\n",
       "      <td>14X83-10</td>\n",
       "      <td>472.08</td>\n",
       "      <td>23.52</td>\n",
       "      <td>NOT A PRINCIPAL RESIDENCE</td>\n",
       "      <td>NaN</td>\n",
       "      <td>06/04/2018</td>\n",
       "      <td>Easterwood</td>\n",
       "    </tr>\n",
       "    <tr>\n",
       "      <th>4</th>\n",
       "      <td>0001</td>\n",
       "      <td>006</td>\n",
       "      <td>15</td>\n",
       "      <td>370</td>\n",
       "      <td>14X83-10</td>\n",
       "      <td>247.28</td>\n",
       "      <td>12.32</td>\n",
       "      <td>NOT A PRINCIPAL RESIDENCE</td>\n",
       "      <td>NaN</td>\n",
       "      <td>06/04/2018</td>\n",
       "      <td>Easterwood</td>\n",
       "    </tr>\n",
       "  </tbody>\n",
       "</table>\n",
       "</div>"
      ],
      "text/plain": [
       "  Block  Lot  Ward  Sect            LotSize   CityTax StateTax  \\\n",
       "0  7129  028    25    60  15X119-10          1,317.33    65.63   \n",
       "1  0001  002    15   370  14X83-10           1,112.76    55.44   \n",
       "2  0001  004    15   370  14X83-10             472.08    23.52   \n",
       "3  0001  005    15   370  14X83-10             472.08    23.52   \n",
       "4  0001  006    15   370  14X83-10             247.28    12.32   \n",
       "\n",
       "                     ResCode AmountDue    AsOfDate Neighborhood  \n",
       "0  PRINCIPAL RESIDENCE          651.50  12/31/2018     Brooklyn  \n",
       "1  NOT A PRINCIPAL RESIDENCE       NaN  06/04/2018   Easterwood  \n",
       "2  NOT A PRINCIPAL RESIDENCE       NaN  06/04/2018   Easterwood  \n",
       "3  NOT A PRINCIPAL RESIDENCE       NaN  06/04/2018   Easterwood  \n",
       "4  NOT A PRINCIPAL RESIDENCE       NaN  06/04/2018   Easterwood  "
      ]
     },
     "execution_count": 10,
     "metadata": {},
     "output_type": "execute_result"
    }
   ],
   "source": [
    "df.head()"
   ]
  },
  {
   "cell_type": "markdown",
   "metadata": {},
   "source": [
    "# So it's either a primary resience or it isn't\n",
    "# Makes sense. I'm going to rename this so it isn't as much of an eye sore"
   ]
  },
  {
   "cell_type": "code",
   "execution_count": 11,
   "metadata": {
    "scrolled": true
   },
   "outputs": [
    {
     "data": {
      "text/plain": [
       "NOT A PRINCIPAL RESIDENCE    124359\n",
       "PRINCIPAL RESIDENCE          114237\n",
       "Name: ResCode, dtype: int64"
      ]
     },
     "execution_count": 11,
     "metadata": {},
     "output_type": "execute_result"
    }
   ],
   "source": [
    "df['ResCode'].value_counts()"
   ]
  },
  {
   "cell_type": "markdown",
   "metadata": {},
   "source": [
    "# Apparently, there is a ton of spaces afer Princpal Residence. No idea why"
   ]
  },
  {
   "cell_type": "code",
   "execution_count": 12,
   "metadata": {},
   "outputs": [],
   "source": [
    "df['ResCode'] = df['ResCode'].replace(['PRINCIPAL RESIDENCE      ', 'NOT A PRINCIPAL RESIDENCE'], ['Y','N'])"
   ]
  },
  {
   "cell_type": "code",
   "execution_count": 13,
   "metadata": {
    "scrolled": false
   },
   "outputs": [
    {
     "data": {
      "text/plain": [
       "N    124359\n",
       "Y    114237\n",
       "Name: ResCode, dtype: int64"
      ]
     },
     "execution_count": 13,
     "metadata": {},
     "output_type": "execute_result"
    }
   ],
   "source": [
    "df['ResCode'].value_counts()"
   ]
  },
  {
   "cell_type": "markdown",
   "metadata": {},
   "source": [
    "# Creating a new column named PrinRes"
   ]
  },
  {
   "cell_type": "code",
   "execution_count": 14,
   "metadata": {},
   "outputs": [],
   "source": [
    "df['PrinRes'] = df['ResCode']"
   ]
  },
  {
   "cell_type": "code",
   "execution_count": 15,
   "metadata": {
    "scrolled": true
   },
   "outputs": [],
   "source": [
    "df.drop('ResCode', axis=1, inplace=True)"
   ]
  },
  {
   "cell_type": "markdown",
   "metadata": {},
   "source": [
    "# Easier to read. Plus we can change to 0 and 1 if we need numeric values"
   ]
  },
  {
   "cell_type": "code",
   "execution_count": 16,
   "metadata": {},
   "outputs": [
    {
     "data": {
      "text/html": [
       "<div>\n",
       "<style scoped>\n",
       "    .dataframe tbody tr th:only-of-type {\n",
       "        vertical-align: middle;\n",
       "    }\n",
       "\n",
       "    .dataframe tbody tr th {\n",
       "        vertical-align: top;\n",
       "    }\n",
       "\n",
       "    .dataframe thead th {\n",
       "        text-align: right;\n",
       "    }\n",
       "</style>\n",
       "<table border=\"1\" class=\"dataframe\">\n",
       "  <thead>\n",
       "    <tr style=\"text-align: right;\">\n",
       "      <th></th>\n",
       "      <th>Block</th>\n",
       "      <th>Lot</th>\n",
       "      <th>Ward</th>\n",
       "      <th>Sect</th>\n",
       "      <th>LotSize</th>\n",
       "      <th>CityTax</th>\n",
       "      <th>StateTax</th>\n",
       "      <th>AmountDue</th>\n",
       "      <th>AsOfDate</th>\n",
       "      <th>Neighborhood</th>\n",
       "      <th>PrinRes</th>\n",
       "    </tr>\n",
       "  </thead>\n",
       "  <tbody>\n",
       "    <tr>\n",
       "      <th>0</th>\n",
       "      <td>7129</td>\n",
       "      <td>028</td>\n",
       "      <td>25</td>\n",
       "      <td>60</td>\n",
       "      <td>15X119-10</td>\n",
       "      <td>1,317.33</td>\n",
       "      <td>65.63</td>\n",
       "      <td>651.50</td>\n",
       "      <td>12/31/2018</td>\n",
       "      <td>Brooklyn</td>\n",
       "      <td>Y</td>\n",
       "    </tr>\n",
       "    <tr>\n",
       "      <th>1</th>\n",
       "      <td>0001</td>\n",
       "      <td>002</td>\n",
       "      <td>15</td>\n",
       "      <td>370</td>\n",
       "      <td>14X83-10</td>\n",
       "      <td>1,112.76</td>\n",
       "      <td>55.44</td>\n",
       "      <td>NaN</td>\n",
       "      <td>06/04/2018</td>\n",
       "      <td>Easterwood</td>\n",
       "      <td>N</td>\n",
       "    </tr>\n",
       "    <tr>\n",
       "      <th>2</th>\n",
       "      <td>0001</td>\n",
       "      <td>004</td>\n",
       "      <td>15</td>\n",
       "      <td>370</td>\n",
       "      <td>14X83-10</td>\n",
       "      <td>472.08</td>\n",
       "      <td>23.52</td>\n",
       "      <td>NaN</td>\n",
       "      <td>06/04/2018</td>\n",
       "      <td>Easterwood</td>\n",
       "      <td>N</td>\n",
       "    </tr>\n",
       "    <tr>\n",
       "      <th>3</th>\n",
       "      <td>0001</td>\n",
       "      <td>005</td>\n",
       "      <td>15</td>\n",
       "      <td>370</td>\n",
       "      <td>14X83-10</td>\n",
       "      <td>472.08</td>\n",
       "      <td>23.52</td>\n",
       "      <td>NaN</td>\n",
       "      <td>06/04/2018</td>\n",
       "      <td>Easterwood</td>\n",
       "      <td>N</td>\n",
       "    </tr>\n",
       "    <tr>\n",
       "      <th>4</th>\n",
       "      <td>0001</td>\n",
       "      <td>006</td>\n",
       "      <td>15</td>\n",
       "      <td>370</td>\n",
       "      <td>14X83-10</td>\n",
       "      <td>247.28</td>\n",
       "      <td>12.32</td>\n",
       "      <td>NaN</td>\n",
       "      <td>06/04/2018</td>\n",
       "      <td>Easterwood</td>\n",
       "      <td>N</td>\n",
       "    </tr>\n",
       "  </tbody>\n",
       "</table>\n",
       "</div>"
      ],
      "text/plain": [
       "  Block  Lot  Ward  Sect            LotSize   CityTax StateTax AmountDue  \\\n",
       "0  7129  028    25    60  15X119-10          1,317.33    65.63    651.50   \n",
       "1  0001  002    15   370  14X83-10           1,112.76    55.44       NaN   \n",
       "2  0001  004    15   370  14X83-10             472.08    23.52       NaN   \n",
       "3  0001  005    15   370  14X83-10             472.08    23.52       NaN   \n",
       "4  0001  006    15   370  14X83-10             247.28    12.32       NaN   \n",
       "\n",
       "     AsOfDate Neighborhood PrinRes  \n",
       "0  12/31/2018     Brooklyn       Y  \n",
       "1  06/04/2018   Easterwood       N  \n",
       "2  06/04/2018   Easterwood       N  \n",
       "3  06/04/2018   Easterwood       N  \n",
       "4  06/04/2018   Easterwood       N  "
      ]
     },
     "execution_count": 16,
     "metadata": {},
     "output_type": "execute_result"
    }
   ],
   "source": [
    "df.head(5)"
   ]
  },
  {
   "cell_type": "markdown",
   "metadata": {},
   "source": [
    "# I haven't checked for duplicates. But it doesn't look like there are any so that's good"
   ]
  },
  {
   "cell_type": "code",
   "execution_count": 17,
   "metadata": {},
   "outputs": [
    {
     "data": {
      "text/plain": [
       "0"
      ]
     },
     "execution_count": 17,
     "metadata": {},
     "output_type": "execute_result"
    }
   ],
   "source": [
    "len(df) - len(df.drop_duplicates())"
   ]
  },
  {
   "cell_type": "markdown",
   "metadata": {},
   "source": [
    "# Lot Size is a mess. Too much of a mess - we can use the Tax to classify how big or small a lot is\n",
    "\n",
    "# In a separate file, I spent a good 2 hours trying to fix LotSize. I ended up just deleting everything and starting over."
   ]
  },
  {
   "cell_type": "code",
   "execution_count": 18,
   "metadata": {},
   "outputs": [],
   "source": [
    "df.drop('LotSize', axis=1, inplace=True)"
   ]
  },
  {
   "cell_type": "markdown",
   "metadata": {},
   "source": [
    "# Looking cleaner. I should look into what Block/Lot/Ward/Sect are. They sound very similar. And I'm noticing that Neighborhoods have the same Sect and Ward"
   ]
  },
  {
   "cell_type": "code",
   "execution_count": 19,
   "metadata": {
    "scrolled": true
   },
   "outputs": [
    {
     "data": {
      "text/html": [
       "<div>\n",
       "<style scoped>\n",
       "    .dataframe tbody tr th:only-of-type {\n",
       "        vertical-align: middle;\n",
       "    }\n",
       "\n",
       "    .dataframe tbody tr th {\n",
       "        vertical-align: top;\n",
       "    }\n",
       "\n",
       "    .dataframe thead th {\n",
       "        text-align: right;\n",
       "    }\n",
       "</style>\n",
       "<table border=\"1\" class=\"dataframe\">\n",
       "  <thead>\n",
       "    <tr style=\"text-align: right;\">\n",
       "      <th></th>\n",
       "      <th>Block</th>\n",
       "      <th>Lot</th>\n",
       "      <th>Ward</th>\n",
       "      <th>Sect</th>\n",
       "      <th>CityTax</th>\n",
       "      <th>StateTax</th>\n",
       "      <th>AmountDue</th>\n",
       "      <th>AsOfDate</th>\n",
       "      <th>Neighborhood</th>\n",
       "      <th>PrinRes</th>\n",
       "    </tr>\n",
       "  </thead>\n",
       "  <tbody>\n",
       "    <tr>\n",
       "      <th>0</th>\n",
       "      <td>7129</td>\n",
       "      <td>028</td>\n",
       "      <td>25</td>\n",
       "      <td>60</td>\n",
       "      <td>1,317.33</td>\n",
       "      <td>65.63</td>\n",
       "      <td>651.50</td>\n",
       "      <td>12/31/2018</td>\n",
       "      <td>Brooklyn</td>\n",
       "      <td>Y</td>\n",
       "    </tr>\n",
       "    <tr>\n",
       "      <th>1</th>\n",
       "      <td>0001</td>\n",
       "      <td>002</td>\n",
       "      <td>15</td>\n",
       "      <td>370</td>\n",
       "      <td>1,112.76</td>\n",
       "      <td>55.44</td>\n",
       "      <td>NaN</td>\n",
       "      <td>06/04/2018</td>\n",
       "      <td>Easterwood</td>\n",
       "      <td>N</td>\n",
       "    </tr>\n",
       "    <tr>\n",
       "      <th>2</th>\n",
       "      <td>0001</td>\n",
       "      <td>004</td>\n",
       "      <td>15</td>\n",
       "      <td>370</td>\n",
       "      <td>472.08</td>\n",
       "      <td>23.52</td>\n",
       "      <td>NaN</td>\n",
       "      <td>06/04/2018</td>\n",
       "      <td>Easterwood</td>\n",
       "      <td>N</td>\n",
       "    </tr>\n",
       "    <tr>\n",
       "      <th>3</th>\n",
       "      <td>0001</td>\n",
       "      <td>005</td>\n",
       "      <td>15</td>\n",
       "      <td>370</td>\n",
       "      <td>472.08</td>\n",
       "      <td>23.52</td>\n",
       "      <td>NaN</td>\n",
       "      <td>06/04/2018</td>\n",
       "      <td>Easterwood</td>\n",
       "      <td>N</td>\n",
       "    </tr>\n",
       "    <tr>\n",
       "      <th>4</th>\n",
       "      <td>0001</td>\n",
       "      <td>006</td>\n",
       "      <td>15</td>\n",
       "      <td>370</td>\n",
       "      <td>247.28</td>\n",
       "      <td>12.32</td>\n",
       "      <td>NaN</td>\n",
       "      <td>06/04/2018</td>\n",
       "      <td>Easterwood</td>\n",
       "      <td>N</td>\n",
       "    </tr>\n",
       "  </tbody>\n",
       "</table>\n",
       "</div>"
      ],
      "text/plain": [
       "  Block  Lot  Ward  Sect   CityTax StateTax AmountDue    AsOfDate  \\\n",
       "0  7129  028    25    60  1,317.33    65.63    651.50  12/31/2018   \n",
       "1  0001  002    15   370  1,112.76    55.44       NaN  06/04/2018   \n",
       "2  0001  004    15   370    472.08    23.52       NaN  06/04/2018   \n",
       "3  0001  005    15   370    472.08    23.52       NaN  06/04/2018   \n",
       "4  0001  006    15   370    247.28    12.32       NaN  06/04/2018   \n",
       "\n",
       "  Neighborhood PrinRes  \n",
       "0     Brooklyn       Y  \n",
       "1   Easterwood       N  \n",
       "2   Easterwood       N  \n",
       "3   Easterwood       N  \n",
       "4   Easterwood       N  "
      ]
     },
     "execution_count": 19,
     "metadata": {},
     "output_type": "execute_result"
    }
   ],
   "source": [
    "df.head(5)"
   ]
  },
  {
   "cell_type": "markdown",
   "metadata": {},
   "source": [
    "# After googling, Wards are pretty much districts. if we're going off of neighborhood then we don't need this"
   ]
  },
  {
   "cell_type": "code",
   "execution_count": 20,
   "metadata": {},
   "outputs": [],
   "source": [
    "df.drop('Ward', axis=1, inplace=True)"
   ]
  },
  {
   "cell_type": "code",
   "execution_count": 21,
   "metadata": {
    "scrolled": true
   },
   "outputs": [
    {
     "data": {
      "text/html": [
       "<div>\n",
       "<style scoped>\n",
       "    .dataframe tbody tr th:only-of-type {\n",
       "        vertical-align: middle;\n",
       "    }\n",
       "\n",
       "    .dataframe tbody tr th {\n",
       "        vertical-align: top;\n",
       "    }\n",
       "\n",
       "    .dataframe thead th {\n",
       "        text-align: right;\n",
       "    }\n",
       "</style>\n",
       "<table border=\"1\" class=\"dataframe\">\n",
       "  <thead>\n",
       "    <tr style=\"text-align: right;\">\n",
       "      <th></th>\n",
       "      <th>Block</th>\n",
       "      <th>Lot</th>\n",
       "      <th>Sect</th>\n",
       "      <th>CityTax</th>\n",
       "      <th>StateTax</th>\n",
       "      <th>AmountDue</th>\n",
       "      <th>AsOfDate</th>\n",
       "      <th>Neighborhood</th>\n",
       "      <th>PrinRes</th>\n",
       "    </tr>\n",
       "  </thead>\n",
       "  <tbody>\n",
       "    <tr>\n",
       "      <th>0</th>\n",
       "      <td>7129</td>\n",
       "      <td>028</td>\n",
       "      <td>60</td>\n",
       "      <td>1,317.33</td>\n",
       "      <td>65.63</td>\n",
       "      <td>651.50</td>\n",
       "      <td>12/31/2018</td>\n",
       "      <td>Brooklyn</td>\n",
       "      <td>Y</td>\n",
       "    </tr>\n",
       "    <tr>\n",
       "      <th>1</th>\n",
       "      <td>0001</td>\n",
       "      <td>002</td>\n",
       "      <td>370</td>\n",
       "      <td>1,112.76</td>\n",
       "      <td>55.44</td>\n",
       "      <td>NaN</td>\n",
       "      <td>06/04/2018</td>\n",
       "      <td>Easterwood</td>\n",
       "      <td>N</td>\n",
       "    </tr>\n",
       "    <tr>\n",
       "      <th>2</th>\n",
       "      <td>0001</td>\n",
       "      <td>004</td>\n",
       "      <td>370</td>\n",
       "      <td>472.08</td>\n",
       "      <td>23.52</td>\n",
       "      <td>NaN</td>\n",
       "      <td>06/04/2018</td>\n",
       "      <td>Easterwood</td>\n",
       "      <td>N</td>\n",
       "    </tr>\n",
       "    <tr>\n",
       "      <th>3</th>\n",
       "      <td>0001</td>\n",
       "      <td>005</td>\n",
       "      <td>370</td>\n",
       "      <td>472.08</td>\n",
       "      <td>23.52</td>\n",
       "      <td>NaN</td>\n",
       "      <td>06/04/2018</td>\n",
       "      <td>Easterwood</td>\n",
       "      <td>N</td>\n",
       "    </tr>\n",
       "    <tr>\n",
       "      <th>4</th>\n",
       "      <td>0001</td>\n",
       "      <td>006</td>\n",
       "      <td>370</td>\n",
       "      <td>247.28</td>\n",
       "      <td>12.32</td>\n",
       "      <td>NaN</td>\n",
       "      <td>06/04/2018</td>\n",
       "      <td>Easterwood</td>\n",
       "      <td>N</td>\n",
       "    </tr>\n",
       "  </tbody>\n",
       "</table>\n",
       "</div>"
      ],
      "text/plain": [
       "  Block  Lot  Sect   CityTax StateTax AmountDue    AsOfDate Neighborhood  \\\n",
       "0  7129  028    60  1,317.33    65.63    651.50  12/31/2018     Brooklyn   \n",
       "1  0001  002   370  1,112.76    55.44       NaN  06/04/2018   Easterwood   \n",
       "2  0001  004   370    472.08    23.52       NaN  06/04/2018   Easterwood   \n",
       "3  0001  005   370    472.08    23.52       NaN  06/04/2018   Easterwood   \n",
       "4  0001  006   370    247.28    12.32       NaN  06/04/2018   Easterwood   \n",
       "\n",
       "  PrinRes  \n",
       "0       Y  \n",
       "1       N  \n",
       "2       N  \n",
       "3       N  \n",
       "4       N  "
      ]
     },
     "execution_count": 21,
     "metadata": {},
     "output_type": "execute_result"
    }
   ],
   "source": [
    "df.head(5)"
   ]
  },
  {
   "cell_type": "markdown",
   "metadata": {},
   "source": [
    "# Sect is just a more broad version of neighboorhod. Again, if we're using neighborhoods then we do not need Sect. It's less specific"
   ]
  },
  {
   "cell_type": "code",
   "execution_count": 22,
   "metadata": {},
   "outputs": [
    {
     "data": {
      "text/plain": [
       "66"
      ]
     },
     "execution_count": 22,
     "metadata": {},
     "output_type": "execute_result"
    }
   ],
   "source": [
    "df['Sect'].nunique()"
   ]
  },
  {
   "cell_type": "code",
   "execution_count": 23,
   "metadata": {
    "scrolled": true
   },
   "outputs": [
    {
     "data": {
      "text/plain": [
       "278"
      ]
     },
     "execution_count": 23,
     "metadata": {},
     "output_type": "execute_result"
    }
   ],
   "source": [
    "df['Neighborhood'].nunique()"
   ]
  },
  {
   "cell_type": "code",
   "execution_count": 24,
   "metadata": {},
   "outputs": [],
   "source": [
    "df.drop('Sect', axis=1, inplace=True)"
   ]
  },
  {
   "cell_type": "code",
   "execution_count": 25,
   "metadata": {},
   "outputs": [
    {
     "data": {
      "text/html": [
       "<div>\n",
       "<style scoped>\n",
       "    .dataframe tbody tr th:only-of-type {\n",
       "        vertical-align: middle;\n",
       "    }\n",
       "\n",
       "    .dataframe tbody tr th {\n",
       "        vertical-align: top;\n",
       "    }\n",
       "\n",
       "    .dataframe thead th {\n",
       "        text-align: right;\n",
       "    }\n",
       "</style>\n",
       "<table border=\"1\" class=\"dataframe\">\n",
       "  <thead>\n",
       "    <tr style=\"text-align: right;\">\n",
       "      <th></th>\n",
       "      <th>Block</th>\n",
       "      <th>Lot</th>\n",
       "      <th>CityTax</th>\n",
       "      <th>StateTax</th>\n",
       "      <th>AmountDue</th>\n",
       "      <th>AsOfDate</th>\n",
       "      <th>Neighborhood</th>\n",
       "      <th>PrinRes</th>\n",
       "    </tr>\n",
       "  </thead>\n",
       "  <tbody>\n",
       "    <tr>\n",
       "      <th>0</th>\n",
       "      <td>7129</td>\n",
       "      <td>028</td>\n",
       "      <td>1,317.33</td>\n",
       "      <td>65.63</td>\n",
       "      <td>651.50</td>\n",
       "      <td>12/31/2018</td>\n",
       "      <td>Brooklyn</td>\n",
       "      <td>Y</td>\n",
       "    </tr>\n",
       "    <tr>\n",
       "      <th>1</th>\n",
       "      <td>0001</td>\n",
       "      <td>002</td>\n",
       "      <td>1,112.76</td>\n",
       "      <td>55.44</td>\n",
       "      <td>NaN</td>\n",
       "      <td>06/04/2018</td>\n",
       "      <td>Easterwood</td>\n",
       "      <td>N</td>\n",
       "    </tr>\n",
       "    <tr>\n",
       "      <th>2</th>\n",
       "      <td>0001</td>\n",
       "      <td>004</td>\n",
       "      <td>472.08</td>\n",
       "      <td>23.52</td>\n",
       "      <td>NaN</td>\n",
       "      <td>06/04/2018</td>\n",
       "      <td>Easterwood</td>\n",
       "      <td>N</td>\n",
       "    </tr>\n",
       "    <tr>\n",
       "      <th>3</th>\n",
       "      <td>0001</td>\n",
       "      <td>005</td>\n",
       "      <td>472.08</td>\n",
       "      <td>23.52</td>\n",
       "      <td>NaN</td>\n",
       "      <td>06/04/2018</td>\n",
       "      <td>Easterwood</td>\n",
       "      <td>N</td>\n",
       "    </tr>\n",
       "    <tr>\n",
       "      <th>4</th>\n",
       "      <td>0001</td>\n",
       "      <td>006</td>\n",
       "      <td>247.28</td>\n",
       "      <td>12.32</td>\n",
       "      <td>NaN</td>\n",
       "      <td>06/04/2018</td>\n",
       "      <td>Easterwood</td>\n",
       "      <td>N</td>\n",
       "    </tr>\n",
       "  </tbody>\n",
       "</table>\n",
       "</div>"
      ],
      "text/plain": [
       "  Block  Lot   CityTax StateTax AmountDue    AsOfDate Neighborhood PrinRes\n",
       "0  7129  028  1,317.33    65.63    651.50  12/31/2018     Brooklyn       Y\n",
       "1  0001  002  1,112.76    55.44       NaN  06/04/2018   Easterwood       N\n",
       "2  0001  004    472.08    23.52       NaN  06/04/2018   Easterwood       N\n",
       "3  0001  005    472.08    23.52       NaN  06/04/2018   Easterwood       N\n",
       "4  0001  006    247.28    12.32       NaN  06/04/2018   Easterwood       N"
      ]
     },
     "execution_count": 25,
     "metadata": {},
     "output_type": "execute_result"
    }
   ],
   "source": [
    "df.head(5)"
   ]
  },
  {
   "cell_type": "markdown",
   "metadata": {},
   "source": [
    "# What are lots? Like land plots?"
   ]
  },
  {
   "cell_type": "code",
   "execution_count": 26,
   "metadata": {},
   "outputs": [
    {
     "data": {
      "text/plain": [
       "3068"
      ]
     },
     "execution_count": 26,
     "metadata": {},
     "output_type": "execute_result"
    }
   ],
   "source": [
    "df['Lot'].nunique()"
   ]
  },
  {
   "cell_type": "markdown",
   "metadata": {},
   "source": [
    "# These appear to be Lots on a certain block. On cityservices.baltimorecity.gov/realproperty you can find any of these houses simply based on their block and lot"
   ]
  },
  {
   "cell_type": "code",
   "execution_count": 27,
   "metadata": {
    "scrolled": true
   },
   "outputs": [
    {
     "data": {
      "text/plain": [
       "001     5552\n",
       "005     4254\n",
       "004     4224\n",
       "003     4211\n",
       "006     4208\n",
       "007     4198\n",
       "008     4124\n",
       "009     4097\n",
       "002     4072\n",
       "011     3990\n",
       "010     3984\n",
       "012     3923\n",
       "013     3886\n",
       "014     3793\n",
       "015     3767\n",
       "016     3679\n",
       "017     3634\n",
       "018     3508\n",
       "019     3449\n",
       "020     3369\n",
       "021     3301\n",
       "022     3231\n",
       "023     3162\n",
       "024     3122\n",
       "025     3061\n",
       "026     3008\n",
       "027     2932\n",
       "028     2856\n",
       "029     2809\n",
       "030     2766\n",
       "        ... \n",
       "144B       1\n",
       "530C       1\n",
       "060M       1\n",
       "708B       1\n",
       "060G       1\n",
       "038K       1\n",
       "167E       1\n",
       "228C       1\n",
       "401H       1\n",
       "452I       1\n",
       "515J       1\n",
       "412R       1\n",
       "027Q       1\n",
       "005S       1\n",
       "530E       1\n",
       "166P       1\n",
       "135K       1\n",
       "515S       1\n",
       "013K       1\n",
       "007U       1\n",
       "270E       1\n",
       "029Q       1\n",
       "076F       1\n",
       "898        1\n",
       "270O       1\n",
       "944        1\n",
       "063F       1\n",
       "205I       1\n",
       "101F       1\n",
       "164B       1\n",
       "Name: Lot, Length: 3068, dtype: int64"
      ]
     },
     "execution_count": 27,
     "metadata": {},
     "output_type": "execute_result"
    }
   ],
   "source": [
    "df['Lot'].value_counts()"
   ]
  },
  {
   "cell_type": "markdown",
   "metadata": {},
   "source": [
    "# What are blocks? Like street blocks?"
   ]
  },
  {
   "cell_type": "code",
   "execution_count": 28,
   "metadata": {},
   "outputs": [
    {
     "data": {
      "text/plain": [
       "5558"
      ]
     },
     "execution_count": 28,
     "metadata": {},
     "output_type": "execute_result"
    }
   ],
   "source": [
    "df['Block'].nunique()"
   ]
  },
  {
   "cell_type": "markdown",
   "metadata": {},
   "source": [
    "# After doing some research - these appear to be identifiers for the blocks in baltimore. I don't think they will be of much help to us."
   ]
  },
  {
   "cell_type": "code",
   "execution_count": 29,
   "metadata": {
    "scrolled": true
   },
   "outputs": [
    {
     "data": {
      "text/plain": [
       "5387     982\n",
       "5138A    928\n",
       "5267O    839\n",
       "6190     837\n",
       "4778E    809\n",
       "1922     776\n",
       "6172     701\n",
       "5237     674\n",
       "2530C    623\n",
       "3695A    458\n",
       "2024     444\n",
       "1404     444\n",
       "7492C    416\n",
       "5555     407\n",
       "3702     374\n",
       "3970F    369\n",
       "5237B    365\n",
       "1799A    357\n",
       "7993A    343\n",
       "7654G    337\n",
       "1350     330\n",
       "5210D    329\n",
       "4293     329\n",
       "0484     328\n",
       "5267J    325\n",
       "0966     315\n",
       "4179S    314\n",
       "0501     314\n",
       "1874     308\n",
       "2281     303\n",
       "        ... \n",
       "5140O      1\n",
       "2471       1\n",
       "0535       1\n",
       "7462       1\n",
       "1417       1\n",
       "0973       1\n",
       "3100C      1\n",
       "3604       1\n",
       "7992       1\n",
       "0230       1\n",
       "1872       1\n",
       "3068       1\n",
       "1888       1\n",
       "1236       1\n",
       "0841       1\n",
       "1582       1\n",
       "1306D      1\n",
       "6607G      1\n",
       "0678       1\n",
       "1393       1\n",
       "1185       1\n",
       "7805C      1\n",
       "1187       1\n",
       "0457       1\n",
       "1634       1\n",
       "4031       1\n",
       "7612M      1\n",
       "0853       1\n",
       "0529       1\n",
       "2530B      1\n",
       "Name: Block, Length: 5558, dtype: int64"
      ]
     },
     "execution_count": 29,
     "metadata": {},
     "output_type": "execute_result"
    }
   ],
   "source": [
    "df['Block'].value_counts()"
   ]
  },
  {
   "cell_type": "code",
   "execution_count": 30,
   "metadata": {},
   "outputs": [],
   "source": [
    "df.drop('Block', axis=1, inplace=True)"
   ]
  },
  {
   "cell_type": "code",
   "execution_count": 31,
   "metadata": {},
   "outputs": [],
   "source": [
    "df.drop('Lot', axis=1, inplace=True)"
   ]
  },
  {
   "cell_type": "code",
   "execution_count": 32,
   "metadata": {},
   "outputs": [
    {
     "data": {
      "text/plain": [
       "Index(['CityTax', 'StateTax', 'AmountDue', 'AsOfDate', 'Neighborhood',\n",
       "       'PrinRes'],\n",
       "      dtype='object')"
      ]
     },
     "execution_count": 32,
     "metadata": {},
     "output_type": "execute_result"
    }
   ],
   "source": [
    "df.columns"
   ]
  },
  {
   "cell_type": "markdown",
   "metadata": {},
   "source": [
    "# Let's look at the columns that we have left. Starting with CityTax and StateTax"
   ]
  },
  {
   "cell_type": "code",
   "execution_count": 33,
   "metadata": {
    "scrolled": true
   },
   "outputs": [
    {
     "data": {
      "text/plain": [
       "674.40        4160\n",
       "337.20        4081\n",
       "562.00        3687\n",
       "22.48         2932\n",
       "809.28        2609\n",
       "1,126.25      2233\n",
       "67.44         2005\n",
       "112.40        1868\n",
       "472.08        1709\n",
       "382.16        1665\n",
       "651.92        1573\n",
       "1,348.80      1460\n",
       "89.92         1446\n",
       "854.24         880\n",
       "269.76         860\n",
       "97.41          849\n",
       "899.20         802\n",
       "82.43          794\n",
       "1,686.00       751\n",
       "764.32         722\n",
       "427.12         720\n",
       "1,573.60       684\n",
       "229.30         618\n",
       "1,011.60       575\n",
       "606.96         572\n",
       "689.39         569\n",
       "292.24         546\n",
       "824.27         530\n",
       "179.84         526\n",
       "539.52         508\n",
       "              ... \n",
       "27,588.20        1\n",
       "792.80           1\n",
       "13,517.22        1\n",
       "44,342.70        1\n",
       "35,408.92        1\n",
       "10,800.90        1\n",
       "8,077.81         1\n",
       "141,249.33       1\n",
       "7,048.99         1\n",
       "2,368.49         1\n",
       "61,637.91        1\n",
       "9,024.98         1\n",
       "8,065.08         1\n",
       "13,770.51        1\n",
       "12,445.67        1\n",
       "18,622.43        1\n",
       "14,062.75        1\n",
       "8,343.83         1\n",
       "22,255.20        1\n",
       "8,745.46         1\n",
       "22,527.21        1\n",
       "13,915.12        1\n",
       "875,339.73       1\n",
       "38,321.66        1\n",
       "14,886.26        1\n",
       "14,895.25        1\n",
       "8,337.09         1\n",
       "11,208.53        1\n",
       "19,137.97        1\n",
       "9,955.65         1\n",
       "Name: CityTax, Length: 17704, dtype: int64"
      ]
     },
     "execution_count": 33,
     "metadata": {},
     "output_type": "execute_result"
    }
   ],
   "source": [
    "df['CityTax'].value_counts()"
   ]
  },
  {
   "cell_type": "code",
   "execution_count": 34,
   "metadata": {},
   "outputs": [
    {
     "data": {
      "text/plain": [
       "33.60        4160\n",
       "16.80        4081\n",
       "28.00        3687\n",
       "1.12         2932\n",
       "40.32        2622\n",
       "56.11        2233\n",
       "3.36         2005\n",
       "5.60         1868\n",
       "23.52        1709\n",
       "19.04        1665\n",
       "32.48        1573\n",
       "67.20        1460\n",
       "4.48         1446\n",
       "42.56         880\n",
       "13.44         860\n",
       "4.85          850\n",
       "44.80         802\n",
       "4.11          794\n",
       "84.00         751\n",
       "38.08         722\n",
       "21.28         720\n",
       "78.40         684\n",
       "11.42         618\n",
       "50.40         575\n",
       "30.24         572\n",
       "34.35         569\n",
       "14.56         546\n",
       "41.07         530\n",
       "8.96          526\n",
       "26.88         508\n",
       "             ... \n",
       "2,156.71        1\n",
       "1,680.00        1\n",
       "461.85          1\n",
       "809.54          1\n",
       "3,529.12        1\n",
       "1,131.16        1\n",
       "491.16          1\n",
       "892.08          1\n",
       "728.48          1\n",
       "492.16          1\n",
       "452.85          1\n",
       "937.63          1\n",
       "2,250.42        1\n",
       "4,026.55        1\n",
       "497.62          1\n",
       "14,444.08       1\n",
       "425.56          1\n",
       "2,483.26        1\n",
       "494.78          1\n",
       "3,191.10        1\n",
       "1,569.76        1\n",
       "687.42          1\n",
       "737.30          1\n",
       "4,011.39        1\n",
       "2,796.42        1\n",
       "1,314.99        1\n",
       "581.62          1\n",
       "435.72          1\n",
       "290.90          1\n",
       "122.82          1\n",
       "Name: StateTax, Length: 17522, dtype: int64"
      ]
     },
     "execution_count": 34,
     "metadata": {},
     "output_type": "execute_result"
    }
   ],
   "source": [
    "df['StateTax'].value_counts()"
   ]
  },
  {
   "cell_type": "markdown",
   "metadata": {},
   "source": [
    "# Seems fine, hard to call any of these outliers when it's the a tax amount. AmountDue next"
   ]
  },
  {
   "cell_type": "code",
   "execution_count": 35,
   "metadata": {},
   "outputs": [
    {
     "data": {
      "text/plain": [
       "26.82        1577\n",
       "80.46         617\n",
       "38.24         479\n",
       "91.88         448\n",
       "107.28        426\n",
       "134.17        413\n",
       "145.59        378\n",
       "118.70        374\n",
       "116.26        356\n",
       "109.79        332\n",
       "1,176.73      320\n",
       "681.14        316\n",
       "98.37         272\n",
       "587.19        262\n",
       "127.68        254\n",
       "402.37        252\n",
       "704.63        233\n",
       "590.00        230\n",
       "413.79        218\n",
       "555.94        211\n",
       "845.55        208\n",
       "892.53        187\n",
       "682.06        175\n",
       "152.01        175\n",
       "399.29        171\n",
       "1,182.36      166\n",
       "10.00         162\n",
       "684.40        158\n",
       "545.35        150\n",
       "662.77        150\n",
       "             ... \n",
       "1,470.53        1\n",
       "4,667.60        1\n",
       "2,862.17        1\n",
       "4,253.97        1\n",
       "3,300.52        1\n",
       "3,870.71        1\n",
       "8,287.56        1\n",
       "612.07          1\n",
       "1,090.12        1\n",
       "2,964.66        1\n",
       "2,920.76        1\n",
       "1,241.61        1\n",
       "181.85          1\n",
       "5,432.85        1\n",
       "813.32          1\n",
       "12,995.69       1\n",
       "4,541.41        1\n",
       "2,266.18        1\n",
       "5,194.68        1\n",
       "11,198.42       1\n",
       "12,137.56       1\n",
       "544.91          1\n",
       "26.77           1\n",
       "2,402.66        1\n",
       "1,381.75        1\n",
       "11,868.31       1\n",
       "17.63           1\n",
       "49.25           1\n",
       "2,273.11        1\n",
       "9,532.10        1\n",
       "Name: AmountDue, Length: 81613, dtype: int64"
      ]
     },
     "execution_count": 35,
     "metadata": {},
     "output_type": "execute_result"
    }
   ],
   "source": [
    "df['AmountDue'].value_counts()"
   ]
  },
  {
   "cell_type": "markdown",
   "metadata": {},
   "source": [
    "# Same thing. Big and Small numbers make sense. We would have to visualize this to determine if there are any outliers\n",
    "\n",
    "# AsOfDate seems fine. We could calculate this to age if need be"
   ]
  },
  {
   "cell_type": "code",
   "execution_count": 36,
   "metadata": {
    "scrolled": true
   },
   "outputs": [
    {
     "data": {
      "text/plain": [
       "06/04/2018    95635\n",
       "07/01/2018    33577\n",
       "12/31/2018    30507\n",
       "07/31/2018    15012\n",
       "03/30/2019    11814\n",
       "09/29/2018    11300\n",
       "04/08/2019    10512\n",
       "09/28/2018     9860\n",
       "02/02/2019     2385\n",
       "02/28/2019     2208\n",
       "10/31/2018     2116\n",
       "12/01/2018     1959\n",
       "01/31/2019      431\n",
       "11/30/2018      404\n",
       "03/25/2019      328\n",
       "10/02/2018      284\n",
       "07/03/2018      277\n",
       "10/01/2018      198\n",
       "02/26/2019      174\n",
       "07/11/2018      166\n",
       "03/23/2019      165\n",
       "12/19/2018      161\n",
       "10/16/2018      155\n",
       "03/04/2019      152\n",
       "08/27/2018      147\n",
       "02/04/2019      147\n",
       "06/14/2018      139\n",
       "11/08/2018      135\n",
       "04/19/2019      132\n",
       "12/04/2018      128\n",
       "              ...  \n",
       "09/18/2018       12\n",
       "10/19/2018       11\n",
       "08/31/2018       11\n",
       "09/13/2018       11\n",
       "03/13/2019       11\n",
       "03/21/2019       10\n",
       "07/12/2018        9\n",
       "06/09/2018        9\n",
       "03/14/2019        9\n",
       "07/28/2018        8\n",
       "07/21/2018        8\n",
       "10/26/2018        8\n",
       "03/20/2019        7\n",
       "11/27/2018        6\n",
       "08/04/2018        6\n",
       "06/16/2018        6\n",
       "09/20/2018        6\n",
       "07/26/2018        6\n",
       "07/13/2018        5\n",
       "07/07/2018        5\n",
       "09/06/2018        5\n",
       "07/19/2018        4\n",
       "07/05/2018        4\n",
       "02/21/2019        4\n",
       "03/08/2019        4\n",
       "07/14/2018        3\n",
       "06/11/2018        3\n",
       "07/06/2018        1\n",
       "08/10/2018        1\n",
       "02/22/2019        1\n",
       "Name: AsOfDate, Length: 232, dtype: int64"
      ]
     },
     "execution_count": 36,
     "metadata": {},
     "output_type": "execute_result"
    }
   ],
   "source": [
    "df['AsOfDate'].value_counts()"
   ]
  },
  {
   "cell_type": "markdown",
   "metadata": {},
   "source": [
    "# Many Neighborhoods are NaN. We could use Block/Lot/Etc to determine what neighborhood they are in - but I don't know if there is a dataset to compare them too"
   ]
  },
  {
   "cell_type": "code",
   "execution_count": 37,
   "metadata": {
    "scrolled": true
   },
   "outputs": [
    {
     "data": {
      "text/plain": [
       "Belair-Edison                      6345\n",
       "Canton                             6030\n",
       "Frankford                          4177\n",
       "Broadway East                      3858\n",
       "Sandtown-Winchester                3848\n",
       "Hampden                            3376\n",
       "Brooklyn                           3144\n",
       "Coldstream Homestead Montebello    3105\n",
       "Riverside                          2888\n",
       "Central Park Heights               2859\n",
       "Washington Village/Pigtown         2845\n",
       "Oliver                             2597\n",
       "Waltherson                         2573\n",
       "Hamilton Hills                     2482\n",
       "Patterson Park Neighborhood        2454\n",
       "Carrollton Ridge                   2294\n",
       "North Harford Road                 2232\n",
       "Glenham-Belhar                     2222\n",
       "Howard Park                        2109\n",
       "Harlem Park                        1965\n",
       "Ednor Gardens-Lakeside             1951\n",
       "Upton                              1936\n",
       "Morrell Park                       1933\n",
       "Upper Fells Point                  1910\n",
       "Glen                               1832\n",
       "East Baltimore Midway              1823\n",
       "McElderry Park                     1818\n",
       "Berea                              1762\n",
       "Curtis Bay                         1707\n",
       "South Baltimore                    1673\n",
       "                                   ... \n",
       "Downtown West                        51\n",
       "Hopkins Bayview                      48\n",
       "Jones Falls Area                     48\n",
       "Penn-Fallsway                        46\n",
       "Seton Business Park                  42\n",
       "Pleasant View Gardens                40\n",
       "Loyola/Notre Dame                    31\n",
       "Port Covington                       29\n",
       "Clifton Park                         29\n",
       "Curtis Bay Industrial Area           27\n",
       "Gwynns Falls/Leakin Park             25\n",
       "Cross Keys                           23\n",
       "O'Donnell Heights                    18\n",
       "Montebello                           18\n",
       "Armistead Gardens                    18\n",
       "Middle Branch/Reedbird Parks         17\n",
       "Blythewood                           12\n",
       "Morgan State University              12\n",
       "Lower Herring Run Park               10\n",
       "Perkins Homes                         7\n",
       "Carroll Park                          7\n",
       "Mt Pleasant Park                      7\n",
       "Stadium Area                          7\n",
       "Purnell                               4\n",
       "Johns Hopkins Homewood                4\n",
       "Patterson Park                        3\n",
       "Herring Run Park                      2\n",
       "Dundalk Marine Terminal               2\n",
       "Druid Hill Park                       2\n",
       "Greenmount Cemetery                   1\n",
       "Name: Neighborhood, Length: 278, dtype: int64"
      ]
     },
     "execution_count": 37,
     "metadata": {},
     "output_type": "execute_result"
    }
   ],
   "source": [
    "df['Neighborhood'].value_counts()"
   ]
  },
  {
   "cell_type": "markdown",
   "metadata": {},
   "source": [
    "# We already know PrinRes is nice looking"
   ]
  },
  {
   "cell_type": "code",
   "execution_count": 38,
   "metadata": {
    "scrolled": true
   },
   "outputs": [
    {
     "data": {
      "text/plain": [
       "N    124359\n",
       "Y    114237\n",
       "Name: PrinRes, dtype: int64"
      ]
     },
     "execution_count": 38,
     "metadata": {},
     "output_type": "execute_result"
    }
   ],
   "source": [
    "df['PrinRes'].value_counts()"
   ]
  },
  {
   "cell_type": "code",
   "execution_count": 39,
   "metadata": {},
   "outputs": [
    {
     "data": {
      "text/html": [
       "<div>\n",
       "<style scoped>\n",
       "    .dataframe tbody tr th:only-of-type {\n",
       "        vertical-align: middle;\n",
       "    }\n",
       "\n",
       "    .dataframe tbody tr th {\n",
       "        vertical-align: top;\n",
       "    }\n",
       "\n",
       "    .dataframe thead th {\n",
       "        text-align: right;\n",
       "    }\n",
       "</style>\n",
       "<table border=\"1\" class=\"dataframe\">\n",
       "  <thead>\n",
       "    <tr style=\"text-align: right;\">\n",
       "      <th></th>\n",
       "      <th>CityTax</th>\n",
       "      <th>StateTax</th>\n",
       "      <th>AmountDue</th>\n",
       "      <th>AsOfDate</th>\n",
       "      <th>Neighborhood</th>\n",
       "      <th>PrinRes</th>\n",
       "    </tr>\n",
       "  </thead>\n",
       "  <tbody>\n",
       "    <tr>\n",
       "      <th>0</th>\n",
       "      <td>1,317.33</td>\n",
       "      <td>65.63</td>\n",
       "      <td>651.50</td>\n",
       "      <td>12/31/2018</td>\n",
       "      <td>Brooklyn</td>\n",
       "      <td>Y</td>\n",
       "    </tr>\n",
       "    <tr>\n",
       "      <th>1</th>\n",
       "      <td>1,112.76</td>\n",
       "      <td>55.44</td>\n",
       "      <td>NaN</td>\n",
       "      <td>06/04/2018</td>\n",
       "      <td>Easterwood</td>\n",
       "      <td>N</td>\n",
       "    </tr>\n",
       "    <tr>\n",
       "      <th>2</th>\n",
       "      <td>472.08</td>\n",
       "      <td>23.52</td>\n",
       "      <td>NaN</td>\n",
       "      <td>06/04/2018</td>\n",
       "      <td>Easterwood</td>\n",
       "      <td>N</td>\n",
       "    </tr>\n",
       "    <tr>\n",
       "      <th>3</th>\n",
       "      <td>472.08</td>\n",
       "      <td>23.52</td>\n",
       "      <td>NaN</td>\n",
       "      <td>06/04/2018</td>\n",
       "      <td>Easterwood</td>\n",
       "      <td>N</td>\n",
       "    </tr>\n",
       "    <tr>\n",
       "      <th>4</th>\n",
       "      <td>247.28</td>\n",
       "      <td>12.32</td>\n",
       "      <td>NaN</td>\n",
       "      <td>06/04/2018</td>\n",
       "      <td>Easterwood</td>\n",
       "      <td>N</td>\n",
       "    </tr>\n",
       "  </tbody>\n",
       "</table>\n",
       "</div>"
      ],
      "text/plain": [
       "    CityTax StateTax AmountDue    AsOfDate Neighborhood PrinRes\n",
       "0  1,317.33    65.63    651.50  12/31/2018     Brooklyn       Y\n",
       "1  1,112.76    55.44       NaN  06/04/2018   Easterwood       N\n",
       "2    472.08    23.52       NaN  06/04/2018   Easterwood       N\n",
       "3    472.08    23.52       NaN  06/04/2018   Easterwood       N\n",
       "4    247.28    12.32       NaN  06/04/2018   Easterwood       N"
      ]
     },
     "execution_count": 39,
     "metadata": {},
     "output_type": "execute_result"
    }
   ],
   "source": [
    "df.head()"
   ]
  },
  {
   "cell_type": "markdown",
   "metadata": {},
   "source": [
    "# I want to convert things to numberic values so that I can visualize things."
   ]
  },
  {
   "cell_type": "code",
   "execution_count": 40,
   "metadata": {},
   "outputs": [
    {
     "data": {
      "text/plain": [
       "dtype('O')"
      ]
     },
     "execution_count": 40,
     "metadata": {},
     "output_type": "execute_result"
    }
   ],
   "source": [
    "df['CityTax'].dtype"
   ]
  },
  {
   "cell_type": "code",
   "execution_count": 41,
   "metadata": {},
   "outputs": [],
   "source": [
    "import numpy as np\n",
    "import matplotlib.pyplot as plt"
   ]
  },
  {
   "cell_type": "code",
   "execution_count": 42,
   "metadata": {
    "scrolled": true
   },
   "outputs": [],
   "source": [
    "#df_new = df.infer_objects"
   ]
  },
  {
   "cell_type": "code",
   "execution_count": 43,
   "metadata": {},
   "outputs": [],
   "source": [
    "#df_new = df[0:]"
   ]
  },
  {
   "cell_type": "code",
   "execution_count": 44,
   "metadata": {},
   "outputs": [],
   "source": [
    "#df_new.head()"
   ]
  },
  {
   "cell_type": "code",
   "execution_count": 45,
   "metadata": {
    "scrolled": true
   },
   "outputs": [],
   "source": [
    "#df_new['CityTax'].dtype"
   ]
  },
  {
   "cell_type": "code",
   "execution_count": 46,
   "metadata": {
    "scrolled": true
   },
   "outputs": [],
   "source": [
    "#pd.to_numeric(df['CityTax'], errors = 'coerce')"
   ]
  },
  {
   "cell_type": "code",
   "execution_count": 47,
   "metadata": {},
   "outputs": [],
   "source": [
    "#pd.to_numeric(df['AmountDue'], errors = 'coerce')"
   ]
  },
  {
   "cell_type": "code",
   "execution_count": 48,
   "metadata": {},
   "outputs": [],
   "source": [
    "#df['CityTax'].dtype"
   ]
  },
  {
   "cell_type": "markdown",
   "metadata": {},
   "source": [
    "# Working on converting things to numeric in order to visualize"
   ]
  },
  {
   "cell_type": "markdown",
   "metadata": {},
   "source": [
    "# This works? But it also didn't when I tried to plot them"
   ]
  },
  {
   "cell_type": "code",
   "execution_count": 49,
   "metadata": {
    "scrolled": false
   },
   "outputs": [
    {
     "name": "stderr",
     "output_type": "stream",
     "text": [
      "C:\\Users\\Delta\\Anaconda3\\lib\\site-packages\\ipykernel_launcher.py:1: FutureWarning: convert_objects is deprecated.  To re-infer data dtypes for object columns, use DataFrame.infer_objects()\n",
      "For all other conversions use the data-type specific converters pd.to_datetime, pd.to_timedelta and pd.to_numeric.\n",
      "  \"\"\"Entry point for launching an IPython kernel.\n"
     ]
    },
    {
     "data": {
      "text/plain": [
       "CityTax         float64\n",
       "StateTax        float64\n",
       "AmountDue       float64\n",
       "AsOfDate         object\n",
       "Neighborhood     object\n",
       "PrinRes          object\n",
       "dtype: object"
      ]
     },
     "execution_count": 49,
     "metadata": {},
     "output_type": "execute_result"
    }
   ],
   "source": [
    "df.convert_objects(convert_numeric=True).dtypes"
   ]
  },
  {
   "cell_type": "markdown",
   "metadata": {},
   "source": [
    "# Still says type object"
   ]
  },
  {
   "cell_type": "code",
   "execution_count": 50,
   "metadata": {
    "scrolled": true
   },
   "outputs": [
    {
     "data": {
      "text/plain": [
       "0          1,317.33\n",
       "1          1,112.76\n",
       "2            472.08\n",
       "3            472.08\n",
       "4            247.28\n",
       "5          1,348.80\n",
       "6          2,032.19\n",
       "7            472.08\n",
       "8            472.08\n",
       "9            472.08\n",
       "10           472.08\n",
       "11           472.08\n",
       "12              NaN\n",
       "13           472.08\n",
       "14           472.08\n",
       "15           472.08\n",
       "16           472.08\n",
       "17           472.08\n",
       "18           472.08\n",
       "19           472.08\n",
       "20           472.08\n",
       "21         2,823.49\n",
       "22           472.08\n",
       "23         6,008.90\n",
       "24              NaN\n",
       "25         2,801.01\n",
       "26         2,308.70\n",
       "27         2,839.22\n",
       "28           472.08\n",
       "29           472.08\n",
       "            ...    \n",
       "238566     2,233.77\n",
       "238567     1,840.37\n",
       "238568     3,996.94\n",
       "238569     3,868.81\n",
       "238570     3,212.39\n",
       "238571     3,372.00\n",
       "238572     2,196.30\n",
       "238573     2,675.12\n",
       "238574     7,058.72\n",
       "238575     2,812.25\n",
       "238576    16,857.75\n",
       "238577     3,273.09\n",
       "238578     3,437.19\n",
       "238579     4,612.90\n",
       "238580     4,608.40\n",
       "238581     4,325.15\n",
       "238582     4,621.89\n",
       "238583     4,747.78\n",
       "238584     5,939.22\n",
       "238585     4,727.54\n",
       "238586     7,386.93\n",
       "238587     4,520.73\n",
       "238588          NaN\n",
       "238589     5,008.54\n",
       "238590     5,570.54\n",
       "238591     4,925.37\n",
       "238592     6,436.02\n",
       "238593     6,069.60\n",
       "238594     4,745.53\n",
       "238595     4,945.60\n",
       "Name: CityTax, Length: 238596, dtype: object"
      ]
     },
     "execution_count": 50,
     "metadata": {},
     "output_type": "execute_result"
    }
   ],
   "source": [
    "df['CityTax']"
   ]
  },
  {
   "cell_type": "markdown",
   "metadata": {},
   "source": [
    "# This is what I wanted"
   ]
  },
  {
   "cell_type": "code",
   "execution_count": 51,
   "metadata": {},
   "outputs": [],
   "source": [
    "#df['CityTax'] = pd.to_numeric(df['CityTax'])\n",
    "#df['AmountDue'] = pd.to_numeric(df['AmountDue'])\n",
    "df['CityTax'] = pd.to_numeric(df['CityTax'],errors='coerce')\n",
    "df['AmountDue'] = pd.to_numeric(df['AmountDue'],errors='coerce')\n",
    "df['StateTax'] = pd.to_numeric(df['StateTax'],errors='coerce')"
   ]
  },
  {
   "cell_type": "markdown",
   "metadata": {},
   "source": [
    "# Much better"
   ]
  },
  {
   "cell_type": "code",
   "execution_count": 52,
   "metadata": {
    "scrolled": true
   },
   "outputs": [
    {
     "data": {
      "text/plain": [
       "dtype('float64')"
      ]
     },
     "execution_count": 52,
     "metadata": {},
     "output_type": "execute_result"
    }
   ],
   "source": [
    "df['CityTax'].dtype"
   ]
  },
  {
   "cell_type": "markdown",
   "metadata": {},
   "source": [
    "# Jokingly, I did City vs State tax\n",
    "\n",
    "# But it's interesting that it's completely correlated\n",
    "# My guess is that they use the same parameters in deciding how much something is worth, but take a different percentage\n",
    "\n",
    "# which lines up as one is much less than the other"
   ]
  },
  {
   "cell_type": "code",
   "execution_count": 53,
   "metadata": {},
   "outputs": [],
   "source": [
    "x = df['CityTax']\n",
    "y = df['StateTax']"
   ]
  },
  {
   "cell_type": "code",
   "execution_count": 54,
   "metadata": {
    "scrolled": true
   },
   "outputs": [
    {
     "data": {
      "text/plain": [
       "<matplotlib.collections.PathCollection at 0x25542aede80>"
      ]
     },
     "execution_count": 54,
     "metadata": {},
     "output_type": "execute_result"
    },
    {
     "data": {
      "image/png": "[encoded data removed]",
      "text/plain": [
       "<Figure size 432x288 with 1 Axes>"
      ]
     },
     "metadata": {
      "needs_background": "light"
     },
     "output_type": "display_data"
    }
   ],
   "source": [
    "plt.scatter(x,y,c='DarkBlue')"
   ]
  },
  {
   "cell_type": "markdown",
   "metadata": {},
   "source": [
    "# City Tax vs Amount Due"
   ]
  },
  {
   "cell_type": "code",
   "execution_count": 55,
   "metadata": {},
   "outputs": [],
   "source": [
    "x = df['CityTax']\n",
    "y = df['AmountDue']"
   ]
  },
  {
   "cell_type": "markdown",
   "metadata": {},
   "source": [
    "# There is A LOT of clutter here\n",
    "# We can see some outliers out above everything else\n",
    "# Below the thick line, we can see some variation\n",
    "# Let's get a closer look"
   ]
  },
  {
   "cell_type": "code",
   "execution_count": 56,
   "metadata": {
    "scrolled": true
   },
   "outputs": [
    {
     "data": {
      "text/plain": [
       "<matplotlib.collections.PathCollection at 0x25542b88828>"
      ]
     },
     "execution_count": 56,
     "metadata": {},
     "output_type": "execute_result"
    },
    {
     "data": {
      "image/png": "[encoded data removed]",
      "text/plain": [
       "<Figure size 432x288 with 1 Axes>"
      ]
     },
     "metadata": {
      "needs_background": "light"
     },
     "output_type": "display_data"
    }
   ],
   "source": [
    "plt.scatter(x,y,c='DarkBlue')"
   ]
  },
  {
   "cell_type": "markdown",
   "metadata": {},
   "source": [
    "# Limiting the y axis to 0-600\n",
    "# We can see a positive correlation here. But also, no duh\n",
    "# You get taxed more, you're likely to have more due\n",
    "# Nothing groundbreaking here"
   ]
  },
  {
   "cell_type": "code",
   "execution_count": 58,
   "metadata": {
    "scrolled": false
   },
   "outputs": [
    {
     "data": {
      "text/plain": [
       "<matplotlib.collections.PathCollection at 0x25542a1fe10>"
      ]
     },
     "execution_count": 58,
     "metadata": {},
     "output_type": "execute_result"
    },
    {
     "data": {
      "image/png": "[encoded data removed]",
      "text/plain": [
       "<Figure size 432x288 with 1 Axes>"
      ]
     },
     "metadata": {
      "needs_background": "light"
     },
     "output_type": "display_data"
    }
   ],
   "source": [
    "plt.ylim(0,600)\n",
    "plt.scatter(x,y,c='DarkBlue')"
   ]
  },
  {
   "cell_type": "code",
   "execution_count": 59,
   "metadata": {},
   "outputs": [
    {
     "data": {
      "text/html": [
       "<div>\n",
       "<style scoped>\n",
       "    .dataframe tbody tr th:only-of-type {\n",
       "        vertical-align: middle;\n",
       "    }\n",
       "\n",
       "    .dataframe tbody tr th {\n",
       "        vertical-align: top;\n",
       "    }\n",
       "\n",
       "    .dataframe thead th {\n",
       "        text-align: right;\n",
       "    }\n",
       "</style>\n",
       "<table border=\"1\" class=\"dataframe\">\n",
       "  <thead>\n",
       "    <tr style=\"text-align: right;\">\n",
       "      <th></th>\n",
       "      <th>CityTax</th>\n",
       "      <th>StateTax</th>\n",
       "      <th>AmountDue</th>\n",
       "      <th>AsOfDate</th>\n",
       "      <th>Neighborhood</th>\n",
       "      <th>PrinRes</th>\n",
       "    </tr>\n",
       "  </thead>\n",
       "  <tbody>\n",
       "    <tr>\n",
       "      <th>0</th>\n",
       "      <td>NaN</td>\n",
       "      <td>65.63</td>\n",
       "      <td>651.5</td>\n",
       "      <td>12/31/2018</td>\n",
       "      <td>Brooklyn</td>\n",
       "      <td>Y</td>\n",
       "    </tr>\n",
       "    <tr>\n",
       "      <th>1</th>\n",
       "      <td>NaN</td>\n",
       "      <td>55.44</td>\n",
       "      <td>NaN</td>\n",
       "      <td>06/04/2018</td>\n",
       "      <td>Easterwood</td>\n",
       "      <td>N</td>\n",
       "    </tr>\n",
       "    <tr>\n",
       "      <th>2</th>\n",
       "      <td>472.08</td>\n",
       "      <td>23.52</td>\n",
       "      <td>NaN</td>\n",
       "      <td>06/04/2018</td>\n",
       "      <td>Easterwood</td>\n",
       "      <td>N</td>\n",
       "    </tr>\n",
       "    <tr>\n",
       "      <th>3</th>\n",
       "      <td>472.08</td>\n",
       "      <td>23.52</td>\n",
       "      <td>NaN</td>\n",
       "      <td>06/04/2018</td>\n",
       "      <td>Easterwood</td>\n",
       "      <td>N</td>\n",
       "    </tr>\n",
       "    <tr>\n",
       "      <th>4</th>\n",
       "      <td>247.28</td>\n",
       "      <td>12.32</td>\n",
       "      <td>NaN</td>\n",
       "      <td>06/04/2018</td>\n",
       "      <td>Easterwood</td>\n",
       "      <td>N</td>\n",
       "    </tr>\n",
       "    <tr>\n",
       "      <th>5</th>\n",
       "      <td>NaN</td>\n",
       "      <td>67.20</td>\n",
       "      <td>666.6</td>\n",
       "      <td>12/31/2018</td>\n",
       "      <td>Brooklyn</td>\n",
       "      <td>Y</td>\n",
       "    </tr>\n",
       "    <tr>\n",
       "      <th>6</th>\n",
       "      <td>NaN</td>\n",
       "      <td>101.25</td>\n",
       "      <td>NaN</td>\n",
       "      <td>07/01/2018</td>\n",
       "      <td>Belair-Edison</td>\n",
       "      <td>N</td>\n",
       "    </tr>\n",
       "    <tr>\n",
       "      <th>7</th>\n",
       "      <td>472.08</td>\n",
       "      <td>23.52</td>\n",
       "      <td>NaN</td>\n",
       "      <td>06/04/2018</td>\n",
       "      <td>Easterwood</td>\n",
       "      <td>N</td>\n",
       "    </tr>\n",
       "    <tr>\n",
       "      <th>8</th>\n",
       "      <td>472.08</td>\n",
       "      <td>23.52</td>\n",
       "      <td>NaN</td>\n",
       "      <td>06/04/2018</td>\n",
       "      <td>Easterwood</td>\n",
       "      <td>N</td>\n",
       "    </tr>\n",
       "    <tr>\n",
       "      <th>9</th>\n",
       "      <td>472.08</td>\n",
       "      <td>23.52</td>\n",
       "      <td>NaN</td>\n",
       "      <td>06/04/2018</td>\n",
       "      <td>Easterwood</td>\n",
       "      <td>N</td>\n",
       "    </tr>\n",
       "    <tr>\n",
       "      <th>10</th>\n",
       "      <td>472.08</td>\n",
       "      <td>23.52</td>\n",
       "      <td>NaN</td>\n",
       "      <td>06/04/2018</td>\n",
       "      <td>Easterwood</td>\n",
       "      <td>N</td>\n",
       "    </tr>\n",
       "    <tr>\n",
       "      <th>11</th>\n",
       "      <td>472.08</td>\n",
       "      <td>23.52</td>\n",
       "      <td>NaN</td>\n",
       "      <td>06/04/2018</td>\n",
       "      <td>Easterwood</td>\n",
       "      <td>Y</td>\n",
       "    </tr>\n",
       "    <tr>\n",
       "      <th>12</th>\n",
       "      <td>NaN</td>\n",
       "      <td>NaN</td>\n",
       "      <td>NaN</td>\n",
       "      <td>06/04/2018</td>\n",
       "      <td>Easterwood</td>\n",
       "      <td>N</td>\n",
       "    </tr>\n",
       "    <tr>\n",
       "      <th>13</th>\n",
       "      <td>472.08</td>\n",
       "      <td>23.52</td>\n",
       "      <td>NaN</td>\n",
       "      <td>06/04/2018</td>\n",
       "      <td>Easterwood</td>\n",
       "      <td>N</td>\n",
       "    </tr>\n",
       "    <tr>\n",
       "      <th>14</th>\n",
       "      <td>472.08</td>\n",
       "      <td>23.52</td>\n",
       "      <td>NaN</td>\n",
       "      <td>06/04/2018</td>\n",
       "      <td>Easterwood</td>\n",
       "      <td>N</td>\n",
       "    </tr>\n",
       "    <tr>\n",
       "      <th>15</th>\n",
       "      <td>472.08</td>\n",
       "      <td>23.52</td>\n",
       "      <td>NaN</td>\n",
       "      <td>06/04/2018</td>\n",
       "      <td>Easterwood</td>\n",
       "      <td>N</td>\n",
       "    </tr>\n",
       "    <tr>\n",
       "      <th>16</th>\n",
       "      <td>472.08</td>\n",
       "      <td>23.52</td>\n",
       "      <td>NaN</td>\n",
       "      <td>06/04/2018</td>\n",
       "      <td>Easterwood</td>\n",
       "      <td>N</td>\n",
       "    </tr>\n",
       "    <tr>\n",
       "      <th>17</th>\n",
       "      <td>472.08</td>\n",
       "      <td>23.52</td>\n",
       "      <td>NaN</td>\n",
       "      <td>06/04/2018</td>\n",
       "      <td>Easterwood</td>\n",
       "      <td>N</td>\n",
       "    </tr>\n",
       "    <tr>\n",
       "      <th>18</th>\n",
       "      <td>472.08</td>\n",
       "      <td>23.52</td>\n",
       "      <td>NaN</td>\n",
       "      <td>06/04/2018</td>\n",
       "      <td>Easterwood</td>\n",
       "      <td>Y</td>\n",
       "    </tr>\n",
       "    <tr>\n",
       "      <th>19</th>\n",
       "      <td>472.08</td>\n",
       "      <td>23.52</td>\n",
       "      <td>NaN</td>\n",
       "      <td>06/04/2018</td>\n",
       "      <td>Easterwood</td>\n",
       "      <td>N</td>\n",
       "    </tr>\n",
       "    <tr>\n",
       "      <th>20</th>\n",
       "      <td>472.08</td>\n",
       "      <td>23.52</td>\n",
       "      <td>NaN</td>\n",
       "      <td>06/04/2018</td>\n",
       "      <td>Easterwood</td>\n",
       "      <td>N</td>\n",
       "    </tr>\n",
       "    <tr>\n",
       "      <th>21</th>\n",
       "      <td>NaN</td>\n",
       "      <td>140.67</td>\n",
       "      <td>NaN</td>\n",
       "      <td>12/31/2018</td>\n",
       "      <td>Brooklyn</td>\n",
       "      <td>Y</td>\n",
       "    </tr>\n",
       "    <tr>\n",
       "      <th>22</th>\n",
       "      <td>472.08</td>\n",
       "      <td>23.52</td>\n",
       "      <td>NaN</td>\n",
       "      <td>06/04/2018</td>\n",
       "      <td>Easterwood</td>\n",
       "      <td>N</td>\n",
       "    </tr>\n",
       "    <tr>\n",
       "      <th>23</th>\n",
       "      <td>NaN</td>\n",
       "      <td>299.38</td>\n",
       "      <td>NaN</td>\n",
       "      <td>09/29/2018</td>\n",
       "      <td>Cross Country</td>\n",
       "      <td>N</td>\n",
       "    </tr>\n",
       "    <tr>\n",
       "      <th>24</th>\n",
       "      <td>NaN</td>\n",
       "      <td>NaN</td>\n",
       "      <td>NaN</td>\n",
       "      <td>06/04/2018</td>\n",
       "      <td>NaN</td>\n",
       "      <td>N</td>\n",
       "    </tr>\n",
       "    <tr>\n",
       "      <th>25</th>\n",
       "      <td>NaN</td>\n",
       "      <td>139.55</td>\n",
       "      <td>NaN</td>\n",
       "      <td>12/31/2018</td>\n",
       "      <td>Belair-Edison</td>\n",
       "      <td>Y</td>\n",
       "    </tr>\n",
       "    <tr>\n",
       "      <th>26</th>\n",
       "      <td>NaN</td>\n",
       "      <td>115.02</td>\n",
       "      <td>NaN</td>\n",
       "      <td>12/31/2018</td>\n",
       "      <td>Belair-Edison</td>\n",
       "      <td>Y</td>\n",
       "    </tr>\n",
       "    <tr>\n",
       "      <th>27</th>\n",
       "      <td>NaN</td>\n",
       "      <td>141.46</td>\n",
       "      <td>NaN</td>\n",
       "      <td>12/31/2018</td>\n",
       "      <td>Brooklyn</td>\n",
       "      <td>Y</td>\n",
       "    </tr>\n",
       "    <tr>\n",
       "      <th>28</th>\n",
       "      <td>472.08</td>\n",
       "      <td>23.52</td>\n",
       "      <td>NaN</td>\n",
       "      <td>06/04/2018</td>\n",
       "      <td>Easterwood</td>\n",
       "      <td>N</td>\n",
       "    </tr>\n",
       "    <tr>\n",
       "      <th>29</th>\n",
       "      <td>472.08</td>\n",
       "      <td>23.52</td>\n",
       "      <td>NaN</td>\n",
       "      <td>06/04/2018</td>\n",
       "      <td>Easterwood</td>\n",
       "      <td>N</td>\n",
       "    </tr>\n",
       "    <tr>\n",
       "      <th>...</th>\n",
       "      <td>...</td>\n",
       "      <td>...</td>\n",
       "      <td>...</td>\n",
       "      <td>...</td>\n",
       "      <td>...</td>\n",
       "      <td>...</td>\n",
       "    </tr>\n",
       "    <tr>\n",
       "      <th>238566</th>\n",
       "      <td>NaN</td>\n",
       "      <td>111.29</td>\n",
       "      <td>NaN</td>\n",
       "      <td>07/01/2018</td>\n",
       "      <td>Belair-Edison</td>\n",
       "      <td>N</td>\n",
       "    </tr>\n",
       "    <tr>\n",
       "      <th>238567</th>\n",
       "      <td>NaN</td>\n",
       "      <td>91.69</td>\n",
       "      <td>NaN</td>\n",
       "      <td>07/01/2018</td>\n",
       "      <td>Belair-Edison</td>\n",
       "      <td>N</td>\n",
       "    </tr>\n",
       "    <tr>\n",
       "      <th>238568</th>\n",
       "      <td>NaN</td>\n",
       "      <td>199.14</td>\n",
       "      <td>NaN</td>\n",
       "      <td>12/31/2018</td>\n",
       "      <td>Arcadia</td>\n",
       "      <td>Y</td>\n",
       "    </tr>\n",
       "    <tr>\n",
       "      <th>238569</th>\n",
       "      <td>NaN</td>\n",
       "      <td>192.75</td>\n",
       "      <td>NaN</td>\n",
       "      <td>07/01/2018</td>\n",
       "      <td>Arcadia</td>\n",
       "      <td>N</td>\n",
       "    </tr>\n",
       "    <tr>\n",
       "      <th>238570</th>\n",
       "      <td>NaN</td>\n",
       "      <td>160.05</td>\n",
       "      <td>NaN</td>\n",
       "      <td>07/01/2018</td>\n",
       "      <td>Arcadia</td>\n",
       "      <td>Y</td>\n",
       "    </tr>\n",
       "    <tr>\n",
       "      <th>238571</th>\n",
       "      <td>NaN</td>\n",
       "      <td>168.00</td>\n",
       "      <td>NaN</td>\n",
       "      <td>07/01/2018</td>\n",
       "      <td>Arcadia</td>\n",
       "      <td>N</td>\n",
       "    </tr>\n",
       "    <tr>\n",
       "      <th>238572</th>\n",
       "      <td>NaN</td>\n",
       "      <td>109.42</td>\n",
       "      <td>NaN</td>\n",
       "      <td>07/01/2018</td>\n",
       "      <td>Arcadia</td>\n",
       "      <td>Y</td>\n",
       "    </tr>\n",
       "    <tr>\n",
       "      <th>238573</th>\n",
       "      <td>NaN</td>\n",
       "      <td>133.28</td>\n",
       "      <td>NaN</td>\n",
       "      <td>07/01/2018</td>\n",
       "      <td>Arcadia</td>\n",
       "      <td>N</td>\n",
       "    </tr>\n",
       "    <tr>\n",
       "      <th>238574</th>\n",
       "      <td>NaN</td>\n",
       "      <td>351.68</td>\n",
       "      <td>NaN</td>\n",
       "      <td>07/01/2018</td>\n",
       "      <td>Arcadia</td>\n",
       "      <td>N</td>\n",
       "    </tr>\n",
       "    <tr>\n",
       "      <th>238575</th>\n",
       "      <td>NaN</td>\n",
       "      <td>140.11</td>\n",
       "      <td>NaN</td>\n",
       "      <td>07/01/2018</td>\n",
       "      <td>Beverly Hills</td>\n",
       "      <td>N</td>\n",
       "    </tr>\n",
       "    <tr>\n",
       "      <th>238576</th>\n",
       "      <td>NaN</td>\n",
       "      <td>839.89</td>\n",
       "      <td>NaN</td>\n",
       "      <td>07/01/2018</td>\n",
       "      <td>Beverly Hills</td>\n",
       "      <td>N</td>\n",
       "    </tr>\n",
       "    <tr>\n",
       "      <th>238577</th>\n",
       "      <td>NaN</td>\n",
       "      <td>163.07</td>\n",
       "      <td>NaN</td>\n",
       "      <td>09/29/2018</td>\n",
       "      <td>Beverly Hills</td>\n",
       "      <td>N</td>\n",
       "    </tr>\n",
       "    <tr>\n",
       "      <th>238578</th>\n",
       "      <td>NaN</td>\n",
       "      <td>171.25</td>\n",
       "      <td>NaN</td>\n",
       "      <td>07/01/2018</td>\n",
       "      <td>Clifton Park</td>\n",
       "      <td>N</td>\n",
       "    </tr>\n",
       "    <tr>\n",
       "      <th>238579</th>\n",
       "      <td>NaN</td>\n",
       "      <td>229.82</td>\n",
       "      <td>NaN</td>\n",
       "      <td>07/01/2018</td>\n",
       "      <td>Cross Country</td>\n",
       "      <td>Y</td>\n",
       "    </tr>\n",
       "    <tr>\n",
       "      <th>238580</th>\n",
       "      <td>NaN</td>\n",
       "      <td>229.60</td>\n",
       "      <td>NaN</td>\n",
       "      <td>03/06/2019</td>\n",
       "      <td>Cross Country</td>\n",
       "      <td>Y</td>\n",
       "    </tr>\n",
       "    <tr>\n",
       "      <th>238581</th>\n",
       "      <td>NaN</td>\n",
       "      <td>215.49</td>\n",
       "      <td>NaN</td>\n",
       "      <td>07/01/2018</td>\n",
       "      <td>Cross Country</td>\n",
       "      <td>Y</td>\n",
       "    </tr>\n",
       "    <tr>\n",
       "      <th>238582</th>\n",
       "      <td>NaN</td>\n",
       "      <td>230.27</td>\n",
       "      <td>NaN</td>\n",
       "      <td>12/31/2018</td>\n",
       "      <td>Cross Country</td>\n",
       "      <td>Y</td>\n",
       "    </tr>\n",
       "    <tr>\n",
       "      <th>238583</th>\n",
       "      <td>NaN</td>\n",
       "      <td>236.54</td>\n",
       "      <td>NaN</td>\n",
       "      <td>12/31/2018</td>\n",
       "      <td>Cross Country</td>\n",
       "      <td>Y</td>\n",
       "    </tr>\n",
       "    <tr>\n",
       "      <th>238584</th>\n",
       "      <td>NaN</td>\n",
       "      <td>295.90</td>\n",
       "      <td>NaN</td>\n",
       "      <td>09/29/2018</td>\n",
       "      <td>Cross Country</td>\n",
       "      <td>Y</td>\n",
       "    </tr>\n",
       "    <tr>\n",
       "      <th>238585</th>\n",
       "      <td>NaN</td>\n",
       "      <td>235.54</td>\n",
       "      <td>NaN</td>\n",
       "      <td>09/29/2018</td>\n",
       "      <td>Cross Country</td>\n",
       "      <td>Y</td>\n",
       "    </tr>\n",
       "    <tr>\n",
       "      <th>238586</th>\n",
       "      <td>NaN</td>\n",
       "      <td>368.03</td>\n",
       "      <td>NaN</td>\n",
       "      <td>07/01/2018</td>\n",
       "      <td>Cross Country</td>\n",
       "      <td>Y</td>\n",
       "    </tr>\n",
       "    <tr>\n",
       "      <th>238587</th>\n",
       "      <td>NaN</td>\n",
       "      <td>225.23</td>\n",
       "      <td>NaN</td>\n",
       "      <td>07/01/2018</td>\n",
       "      <td>Cross Country</td>\n",
       "      <td>Y</td>\n",
       "    </tr>\n",
       "    <tr>\n",
       "      <th>238588</th>\n",
       "      <td>NaN</td>\n",
       "      <td>NaN</td>\n",
       "      <td>268.9</td>\n",
       "      <td>06/30/2018</td>\n",
       "      <td>Cross Country</td>\n",
       "      <td>Y</td>\n",
       "    </tr>\n",
       "    <tr>\n",
       "      <th>238589</th>\n",
       "      <td>NaN</td>\n",
       "      <td>249.54</td>\n",
       "      <td>NaN</td>\n",
       "      <td>07/01/2018</td>\n",
       "      <td>Cross Country</td>\n",
       "      <td>Y</td>\n",
       "    </tr>\n",
       "    <tr>\n",
       "      <th>238590</th>\n",
       "      <td>NaN</td>\n",
       "      <td>277.54</td>\n",
       "      <td>NaN</td>\n",
       "      <td>07/01/2018</td>\n",
       "      <td>Cross Country</td>\n",
       "      <td>Y</td>\n",
       "    </tr>\n",
       "    <tr>\n",
       "      <th>238591</th>\n",
       "      <td>NaN</td>\n",
       "      <td>245.39</td>\n",
       "      <td>NaN</td>\n",
       "      <td>07/01/2018</td>\n",
       "      <td>Cross Country</td>\n",
       "      <td>N</td>\n",
       "    </tr>\n",
       "    <tr>\n",
       "      <th>238592</th>\n",
       "      <td>NaN</td>\n",
       "      <td>320.66</td>\n",
       "      <td>NaN</td>\n",
       "      <td>12/01/2018</td>\n",
       "      <td>Cross Country</td>\n",
       "      <td>Y</td>\n",
       "    </tr>\n",
       "    <tr>\n",
       "      <th>238593</th>\n",
       "      <td>NaN</td>\n",
       "      <td>302.40</td>\n",
       "      <td>NaN</td>\n",
       "      <td>07/01/2018</td>\n",
       "      <td>Cross Country</td>\n",
       "      <td>Y</td>\n",
       "    </tr>\n",
       "    <tr>\n",
       "      <th>238594</th>\n",
       "      <td>NaN</td>\n",
       "      <td>236.43</td>\n",
       "      <td>NaN</td>\n",
       "      <td>12/31/2018</td>\n",
       "      <td>Cross Country</td>\n",
       "      <td>Y</td>\n",
       "    </tr>\n",
       "    <tr>\n",
       "      <th>238595</th>\n",
       "      <td>NaN</td>\n",
       "      <td>246.40</td>\n",
       "      <td>NaN</td>\n",
       "      <td>12/31/2018</td>\n",
       "      <td>Cross Country</td>\n",
       "      <td>Y</td>\n",
       "    </tr>\n",
       "  </tbody>\n",
       "</table>\n",
       "<p>238596 rows × 6 columns</p>\n",
       "</div>"
      ],
      "text/plain": [
       "        CityTax  StateTax  AmountDue    AsOfDate   Neighborhood PrinRes\n",
       "0           NaN     65.63      651.5  12/31/2018       Brooklyn       Y\n",
       "1           NaN     55.44        NaN  06/04/2018     Easterwood       N\n",
       "2        472.08     23.52        NaN  06/04/2018     Easterwood       N\n",
       "3        472.08     23.52        NaN  06/04/2018     Easterwood       N\n",
       "4        247.28     12.32        NaN  06/04/2018     Easterwood       N\n",
       "5           NaN     67.20      666.6  12/31/2018       Brooklyn       Y\n",
       "6           NaN    101.25        NaN  07/01/2018  Belair-Edison       N\n",
       "7        472.08     23.52        NaN  06/04/2018     Easterwood       N\n",
       "8        472.08     23.52        NaN  06/04/2018     Easterwood       N\n",
       "9        472.08     23.52        NaN  06/04/2018     Easterwood       N\n",
       "10       472.08     23.52        NaN  06/04/2018     Easterwood       N\n",
       "11       472.08     23.52        NaN  06/04/2018     Easterwood       Y\n",
       "12          NaN       NaN        NaN  06/04/2018     Easterwood       N\n",
       "13       472.08     23.52        NaN  06/04/2018     Easterwood       N\n",
       "14       472.08     23.52        NaN  06/04/2018     Easterwood       N\n",
       "15       472.08     23.52        NaN  06/04/2018     Easterwood       N\n",
       "16       472.08     23.52        NaN  06/04/2018     Easterwood       N\n",
       "17       472.08     23.52        NaN  06/04/2018     Easterwood       N\n",
       "18       472.08     23.52        NaN  06/04/2018     Easterwood       Y\n",
       "19       472.08     23.52        NaN  06/04/2018     Easterwood       N\n",
       "20       472.08     23.52        NaN  06/04/2018     Easterwood       N\n",
       "21          NaN    140.67        NaN  12/31/2018       Brooklyn       Y\n",
       "22       472.08     23.52        NaN  06/04/2018     Easterwood       N\n",
       "23          NaN    299.38        NaN  09/29/2018  Cross Country       N\n",
       "24          NaN       NaN        NaN  06/04/2018            NaN       N\n",
       "25          NaN    139.55        NaN  12/31/2018  Belair-Edison       Y\n",
       "26          NaN    115.02        NaN  12/31/2018  Belair-Edison       Y\n",
       "27          NaN    141.46        NaN  12/31/2018       Brooklyn       Y\n",
       "28       472.08     23.52        NaN  06/04/2018     Easterwood       N\n",
       "29       472.08     23.52        NaN  06/04/2018     Easterwood       N\n",
       "...         ...       ...        ...         ...            ...     ...\n",
       "238566      NaN    111.29        NaN  07/01/2018  Belair-Edison       N\n",
       "238567      NaN     91.69        NaN  07/01/2018  Belair-Edison       N\n",
       "238568      NaN    199.14        NaN  12/31/2018        Arcadia       Y\n",
       "238569      NaN    192.75        NaN  07/01/2018        Arcadia       N\n",
       "238570      NaN    160.05        NaN  07/01/2018        Arcadia       Y\n",
       "238571      NaN    168.00        NaN  07/01/2018        Arcadia       N\n",
       "238572      NaN    109.42        NaN  07/01/2018        Arcadia       Y\n",
       "238573      NaN    133.28        NaN  07/01/2018        Arcadia       N\n",
       "238574      NaN    351.68        NaN  07/01/2018        Arcadia       N\n",
       "238575      NaN    140.11        NaN  07/01/2018  Beverly Hills       N\n",
       "238576      NaN    839.89        NaN  07/01/2018  Beverly Hills       N\n",
       "238577      NaN    163.07        NaN  09/29/2018  Beverly Hills       N\n",
       "238578      NaN    171.25        NaN  07/01/2018   Clifton Park       N\n",
       "238579      NaN    229.82        NaN  07/01/2018  Cross Country       Y\n",
       "238580      NaN    229.60        NaN  03/06/2019  Cross Country       Y\n",
       "238581      NaN    215.49        NaN  07/01/2018  Cross Country       Y\n",
       "238582      NaN    230.27        NaN  12/31/2018  Cross Country       Y\n",
       "238583      NaN    236.54        NaN  12/31/2018  Cross Country       Y\n",
       "238584      NaN    295.90        NaN  09/29/2018  Cross Country       Y\n",
       "238585      NaN    235.54        NaN  09/29/2018  Cross Country       Y\n",
       "238586      NaN    368.03        NaN  07/01/2018  Cross Country       Y\n",
       "238587      NaN    225.23        NaN  07/01/2018  Cross Country       Y\n",
       "238588      NaN       NaN      268.9  06/30/2018  Cross Country       Y\n",
       "238589      NaN    249.54        NaN  07/01/2018  Cross Country       Y\n",
       "238590      NaN    277.54        NaN  07/01/2018  Cross Country       Y\n",
       "238591      NaN    245.39        NaN  07/01/2018  Cross Country       N\n",
       "238592      NaN    320.66        NaN  12/01/2018  Cross Country       Y\n",
       "238593      NaN    302.40        NaN  07/01/2018  Cross Country       Y\n",
       "238594      NaN    236.43        NaN  12/31/2018  Cross Country       Y\n",
       "238595      NaN    246.40        NaN  12/31/2018  Cross Country       Y\n",
       "\n",
       "[238596 rows x 6 columns]"
      ]
     },
     "execution_count": 59,
     "metadata": {},
     "output_type": "execute_result"
    }
   ],
   "source": [
    "df"
   ]
  },
  {
   "cell_type": "code",
   "execution_count": null,
   "metadata": {},
   "outputs": [],
   "source": []
  }
 ],
 "metadata": {
  "kernelspec": {
   "display_name": "Python 3",
   "language": "python",
   "name": "python3"
  },
  "language_info": {
   "codemirror_mode": {
    "name": "ipython",
    "version": 3
   },
   "file_extension": ".py",
   "mimetype": "text/x-python",
   "name": "python",
   "nbconvert_exporter": "python",
   "pygments_lexer": "ipython3",
   "version": "3.7.3"
  }
 },
 "nbformat": 4,
 "nbformat_minor": 2
}
